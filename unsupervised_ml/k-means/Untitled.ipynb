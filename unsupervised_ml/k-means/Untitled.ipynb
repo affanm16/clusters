{
 "cells": [
  {
   "cell_type": "code",
   "execution_count": 10,
   "id": "0417fd96",
   "metadata": {},
   "outputs": [
    {
     "name": "stderr",
     "output_type": "stream",
     "text": [
      "C:\\Users\\moham\\anaconda3\\Lib\\site-packages\\sklearn\\cluster\\_kmeans.py:1412: FutureWarning: The default value of `n_init` will change from 10 to 'auto' in 1.4. Set the value of `n_init` explicitly to suppress the warning\n",
      "  super()._check_params_vs_input(X, default_n_init=10)\n"
     ]
    },
    {
     "data": {
      "image/png": "[encoded data removed]",
      "text/plain": [
       "<Figure size 640x480 with 1 Axes>"
      ]
     },
     "metadata": {},
     "output_type": "display_data"
    }
   ],
   "source": [
    "import matplotlib.pyplot as plt\n",
    "import matplotlib.image as mpimg\n",
    "import numpy as np\n",
    "from sklearn.cluster import KMeans\n",
    "from PIL import Image, ImageDraw\n",
    "\n",
    "# Load the image\n",
    "image_path = 'C:/Users/moham/OneDrive/Pictures/Screenshots/ss_real_estate.png'\n",
    "image = mpimg.imread(image_path)\n",
    "\n",
    "# Reshape the image array\n",
    "height, width, channels = image.shape\n",
    "X = image.reshape((height * width, channels))\n",
    "\n",
    "# Perform KMeans clustering\n",
    "kmeans = KMeans(n_clusters=3)\n",
    "kmeans.fit(X)\n",
    "\n",
    "# Get dominant colors\n",
    "dominant_colors = kmeans.cluster_centers_.astype(int)\n",
    "\n",
    "# Function to create a color palette image\n",
    "def create_color_palette(dominant_colors, palette_size=(300, 50)):\n",
    "    # Create an image to display the colors\n",
    "    palette = Image.new(\"RGB\", palette_size)\n",
    "    draw = ImageDraw.Draw(palette)\n",
    "\n",
    "    # Calculate the width of each color swatch\n",
    "    swatch_width = palette_size[0] // len(dominant_colors)\n",
    "\n",
    "    # Draw each color as a rectangle on the palette\n",
    "    for i, color in enumerate(dominant_colors):\n",
    "        draw.rectangle([i * swatch_width, 0, (i + 1) * swatch_width, palette_size[1]], fill=tuple(color))\n",
    "\n",
    "    return palette\n",
    "\n",
    "# Display the color palette\n",
    "palette_image = create_color_palette(dominant_colors)\n",
    "plt.imshow(palette_image)\n",
    "plt.axis('off')\n",
    "plt.show()\n"
   ]
  },
  {
   "cell_type": "code",
   "execution_count": null,
   "id": "abff8818",
   "metadata": {},
   "outputs": [],
   "source": []
  }
 ],
 "metadata": {
  "kernelspec": {
   "display_name": "Python 3 (ipykernel)",
   "language": "python",
   "name": "python3"
  },
  "language_info": {
   "codemirror_mode": {
    "name": "ipython",
    "version": 3
   },
   "file_extension": ".py",
   "mimetype": "text/x-python",
   "name": "python",
   "nbconvert_exporter": "python",
   "pygments_lexer": "ipython3",
   "version": "3.11.5"
  }
 },
 "nbformat": 4,
 "nbformat_minor": 5
}
