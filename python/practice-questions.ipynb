{
  "nbformat": 4,
  "nbformat_minor": 0,
  "metadata": {
    "colab": {
      "provenance": []
    },
    "kernelspec": {
      "name": "python3",
      "display_name": "Python 3"
    },
    "language_info": {
      "name": "python"
    }
  },
  "cells": [
    {
      "cell_type": "markdown",
      "source": [
        "### `Problem 1`: Write a program that will give you in hand monthly salary after deduction on CTC - HRA(10%), DA(5%), PF(3%) and taxes deduction as below:\n",
        "\n",
        "> Salary(Lakhs) : Tax(%)\n",
        "\n",
        "*   Below 5 : 0%\n",
        "*   5-10 : 10%\n",
        "*   10-20 : 20%\n",
        "*   aboove 20 : 30%"
      ],
      "metadata": {
        "id": "w6RlOAXV2PWh"
      }
    },
    {
      "cell_type": "code",
      "source": [
        "def calculate_in_hand_salary(ctc):\n",
        "    \"\"\"Calculates in-hand monthly salary after deductions.\n",
        "\n",
        "    Args:\n",
        "    ctc: Cost to Company (CTC) in lakhs.\n",
        "\n",
        "    Returns:\n",
        "    In-hand monthly salary.\n",
        "    \"\"\"\n",
        "\n",
        "    # Calculate annual salary\n",
        "    annual_salary = ctc * 100000\n",
        "\n",
        "    # Calculate deductions\n",
        "    hra = 0.10 * annual_salary\n",
        "    da = 0.05 * annual_salary\n",
        "    pf = 0.03 * annual_salary\n",
        "\n",
        "    # Calculate taxable income\n",
        "    taxable_income = annual_salary - hra - da - pf\n",
        "\n",
        "    # Calculate tax\n",
        "    if taxable_income <= 500000:\n",
        "        tax = 0\n",
        "    elif taxable_income <= 1000000:\n",
        "        tax = 0.10 * (taxable_income - 500000)\n",
        "    elif taxable_income <= 2000000:\n",
        "        tax = 50000 + 0.20 * (taxable_income - 1000000)\n",
        "    else:\n",
        "        tax = 250000 + 0.30 * (taxable_income - 2000000)\n",
        "\n",
        "    # Calculate in-hand salary\n",
        "    in_hand_salary = (annual_salary - hra - da - pf - tax) / 12\n",
        "\n",
        "    return in_hand_salary\n",
        "\n",
        "# Get CTC from user\n",
        "ctc = float(input(\"Enter your CTC (in lakhs): \"))\n",
        "\n",
        "# Calculate and print in-hand salary\n",
        "in_hand_salary = calculate_in_hand_salary(ctc)\n",
        "print(\"Your in-hand monthly salary is:\", in_hand_salary)"
      ],
      "metadata": {
        "id": "7tMHvKYO2etI",
        "outputId": "7d3a4f54-e55f-4ed4-d8ee-278b134c4a2c",
        "colab": {
          "base_uri": "https://localhost:8080/"
        }
      },
      "execution_count": 1,
      "outputs": [
        {
          "output_type": "stream",
          "name": "stdout",
          "text": [
            "Enter your CTC (in lakhs): 15\n",
            "Your in-hand monthly salary is: 94500.0\n"
          ]
        }
      ]
    },
    {
      "cell_type": "markdown",
      "source": [
        "### `Problem 2`: Write a program that take a user input of three angles and will find out whether it can form a triangle or not."
      ],
      "metadata": {
        "id": "tYzCGqwl2hfN"
      }
    },
    {
      "cell_type": "code",
      "source": [
        "def is_triangle(angle1, angle2, angle3):\n",
        "  \"\"\"Checks if three angles can form a triangle.\n",
        "\n",
        "  Args:\n",
        "    angle1: The first angle.\n",
        "    angle2: The second angle.\n",
        "    angle3: The third angle.\n",
        "\n",
        "  Returns:\n",
        "    True if the angles can form a triangle, False otherwise.\n",
        "  \"\"\"\n",
        "  if angle1 + angle2 + angle3 == 180 and angle1 > 0 and angle2 > 0 and angle3 > 0:\n",
        "    return True\n",
        "  else:\n",
        "    return False\n",
        "\n",
        "# Get input from the user\n",
        "angle1 = float(input(\"Enter the first angle: \"))\n",
        "angle2 = float(input(\"Enter the second angle: \"))\n",
        "angle3 = float(input(\"Enter the third angle: \"))\n",
        "\n",
        "# Check if the angles can form a triangle\n",
        "if is_triangle(angle1, angle2, angle3):\n",
        "  print(\"The angles can form a triangle.\")\n",
        "else:\n",
        "  print(\"The angles cannot form a triangle.\")"
      ],
      "metadata": {
        "id": "FYEqln-I2kxV",
        "outputId": "93b2842e-ad73-406f-a2cf-da03acfa0923",
        "colab": {
          "base_uri": "https://localhost:8080/"
        }
      },
      "execution_count": 2,
      "outputs": [
        {
          "output_type": "stream",
          "name": "stdout",
          "text": [
            "Enter the first angle: 30\n",
            "Enter the second angle: 45\n",
            "Enter the third angle: 45\n",
            "The angles cannot form a triangle.\n"
          ]
        }
      ]
    },
    {
      "cell_type": "markdown",
      "source": [
        "### `Problem 3`: Write a program that will take user input of cost price and selling price and determines whether its a loss or a profit."
      ],
      "metadata": {
        "id": "5vEpPh8C2pE4"
      }
    },
    {
      "cell_type": "code",
      "source": [
        "# Get input from the user\n",
        "cost_price = float(input(\"Enter the cost price: \"))\n",
        "selling_price = float(input(\"Enter the selling price: \"))\n",
        "\n",
        "# Calculate profit or loss\n",
        "if selling_price > cost_price:\n",
        "    profit = selling_price - cost_price\n",
        "    print(\"Profit:\", profit)\n",
        "elif selling_price < cost_price:\n",
        "    loss = cost_price - selling_price\n",
        "    print(\"Loss:\", loss)\n",
        "else:\n",
        "    print(\"No profit, no loss\")"
      ],
      "metadata": {
        "id": "jDwBXlkO2sfl",
        "outputId": "99f5a0a1-ec95-4199-d6c7-5e2b243c688b",
        "colab": {
          "base_uri": "https://localhost:8080/"
        }
      },
      "execution_count": 4,
      "outputs": [
        {
          "output_type": "stream",
          "name": "stdout",
          "text": [
            "Enter the cost price: 1000\n",
            "Enter the selling price: 1200\n",
            "Profit: 200.0\n"
          ]
        }
      ]
    },
    {
      "cell_type": "markdown",
      "source": [
        "### `Problem 4`: Write a menu-driven program -\n",
        "1. cm to ft\n",
        "2. km to miles\n",
        "3. USD to INR\n",
        "4. exit"
      ],
      "metadata": {
        "id": "J_FG_cJW2ugT"
      }
    },
    {
      "cell_type": "code",
      "source": [
        "def cm_to_ft(cm):\n",
        "  \"\"\"Converts centimeters to feet.\"\"\"\n",
        "  return cm / 30.48\n",
        "\n",
        "def km_to_miles(km):\n",
        "  \"\"\"Converts kilometers to miles.\"\"\"\n",
        "  return km * 0.621371\n",
        "\n",
        "def usd_to_inr(usd):\n",
        "  \"\"\"Converts USD to INR (using an assumed conversion rate).\"\"\"\n",
        "  # Note: You'll need to update the conversion rate as needed.\n",
        "  conversion_rate = 82.5\n",
        "  return usd * conversion_rate\n",
        "\n",
        "while True:\n",
        "  print(\"\\nMenu:\")\n",
        "  print(\"1. cm to ft\")\n",
        "  print(\"2. km to miles\")\n",
        "  print(\"3. USD to INR\")\n",
        "  print(\"4. Exit\")\n",
        "\n",
        "  choice = input(\"Enter your choice (1-4): \")\n",
        "\n",
        "  if choice == '1':\n",
        "    cm = float(input(\"Enter length in cm: \"))\n",
        "    ft = cm_to_ft(cm)\n",
        "    print(f\"{cm} cm is equal to {ft:.2f} ft\")\n",
        "  elif choice == '2':\n",
        "    km = float(input(\"Enter distance in km: \"))\n",
        "    miles = km_to_miles(km)\n",
        "    print(f\"{km} km is equal to {miles:.2f} miles\")\n",
        "  elif choice == '3':\n",
        "    usd = float(input(\"Enter amount in USD: \"))\n",
        "    inr = usd_to_inr(usd)\n",
        "    print(f\"{usd} USD is equal to {inr:.2f} INR\")\n",
        "  elif choice == '4':\n",
        "    break\n",
        "  else:\n",
        "    print(\"Invalid choice. Please try again.\")\n",
        "\n",
        "print(\"Exiting program.\")"
      ],
      "metadata": {
        "id": "yBHhaCGQ2zpD",
        "outputId": "cc94bf8d-a5f3-4edd-a74b-1f16f42deedf",
        "colab": {
          "base_uri": "https://localhost:8080/"
        }
      },
      "execution_count": 5,
      "outputs": [
        {
          "output_type": "stream",
          "name": "stdout",
          "text": [
            "\n",
            "Menu:\n",
            "1. cm to ft\n",
            "2. km to miles\n",
            "3. USD to INR\n",
            "4. Exit\n",
            "Enter your choice (1-4): 3\n",
            "Enter amount in USD: 1\n",
            "1.0 USD is equal to 82.50 INR\n",
            "\n",
            "Menu:\n",
            "1. cm to ft\n",
            "2. km to miles\n",
            "3. USD to INR\n",
            "4. Exit\n",
            "Enter your choice (1-4): 4\n",
            "Exiting program.\n"
          ]
        }
      ]
    },
    {
      "cell_type": "markdown",
      "source": [
        "### `Problem 5` - Exercise 12: Display Fibonacci series up to 10 terms.\n",
        "\n",
        "*Note: The Fibonacci Sequence is a series of numbers. The next number is found by adding up the two numbers before it. The first two numbers are 0 and 1. For example, 0, 1, 1, 2, 3, 5, 8, 13, 21. The next number in this series above is 13+21 = 34*"
      ],
      "metadata": {
        "id": "LJJ30_Yw27ZU"
      }
    },
    {
      "cell_type": "code",
      "source": [
        "def fibonacci_sequence(n):\n",
        "  \"\"\"Generates the Fibonacci sequence up to n terms.\n",
        "\n",
        "  Args:\n",
        "    n: The number of terms to generate.\n",
        "\n",
        "  Returns:\n",
        "    A list containing the Fibonacci sequence.\n",
        "  \"\"\"\n",
        "  sequence = [0, 1]  # Initialize with the first two terms\n",
        "  while len(sequence) < n:\n",
        "    next_term = sequence[-1] + sequence[-2]  # Calculate the next term\n",
        "    sequence.append(next_term)  # Add it to the sequence\n",
        "  return sequence\n",
        "\n",
        "# Generate and print the Fibonacci sequence up to 10 terms\n",
        "terms = 10\n",
        "fibonacci_numbers = fibonacci_sequence(terms)\n",
        "print(fibonacci_numbers)"
      ],
      "metadata": {
        "id": "ae_1rpe52-5R",
        "outputId": "6d3d543b-614d-4c68-db8d-21979a0224ef",
        "colab": {
          "base_uri": "https://localhost:8080/"
        }
      },
      "execution_count": 6,
      "outputs": [
        {
          "output_type": "stream",
          "name": "stdout",
          "text": [
            "[0, 1, 1, 2, 3, 5, 8, 13, 21, 34]\n"
          ]
        }
      ]
    },
    {
      "cell_type": "markdown",
      "source": [
        "### `Problem 6` - Find the factorial of a given number.\n",
        "\n",
        "Write a program to use the loop to find the factorial of a given number.\n",
        "\n",
        "The factorial (symbol: `!`) means to multiply all whole numbers from the chosen number down to 1.\n",
        "\n",
        "For example: calculate the factorial of 5\n",
        "\n",
        "```bash\n",
        "5! = 5 × 4 × 3 × 2 × 1 = 120\n",
        "```\n",
        "\n",
        "Output:\n",
        "\n",
        "```bash\n",
        "120\n",
        "```"
      ],
      "metadata": {
        "id": "pk_I_S4m3PT5"
      }
    },
    {
      "cell_type": "code",
      "source": [
        "def factorial(n):\n",
        "  \"\"\"Calculates the factorial of a number.\n",
        "\n",
        "  Args:\n",
        "    n: The number for which to calculate the factorial.\n",
        "\n",
        "  Returns:\n",
        "    The factorial of n.\n",
        "  \"\"\"\n",
        "  if n == 0:\n",
        "    return 1\n",
        "  else:\n",
        "    fact = 1\n",
        "    for i in range(1, n + 1):\n",
        "      fact *= i\n",
        "    return fact\n",
        "\n",
        "# Get input from the user\n",
        "num = int(input(\"Enter a number: \"))\n",
        "\n",
        "# Calculate and print the factorial\n",
        "result = factorial(num)\n",
        "print(\"The factorial of\", num, \"is\", result)"
      ],
      "metadata": {
        "id": "lzXxHegx3Rkc",
        "outputId": "11f63907-3bd1-4844-b4de-606c5035896a",
        "colab": {
          "base_uri": "https://localhost:8080/"
        }
      },
      "execution_count": 7,
      "outputs": [
        {
          "output_type": "stream",
          "name": "stdout",
          "text": [
            "Enter a number: 5\n",
            "The factorial of 5 is 120\n"
          ]
        }
      ]
    },
    {
      "cell_type": "markdown",
      "source": [
        "### `Problem 7` - Reverse a given integer number.\n",
        "\n",
        "Example:\n",
        "\n",
        "`Input:`\n",
        "\n",
        "```bash\n",
        "76542\n",
        "```\n",
        "\n",
        "`Output:`\n",
        "\n",
        "```bash\n",
        "24567\n",
        "```"
      ],
      "metadata": {
        "id": "-17IOi-g3UpU"
      }
    },
    {
      "cell_type": "code",
      "source": [
        "def reverse_integer(num):\n",
        "  \"\"\"Reverses a given integer number.\n",
        "\n",
        "  Args:\n",
        "    num: The integer to reverse.\n",
        "\n",
        "  Returns:\n",
        "    The reversed integer.\n",
        "  \"\"\"\n",
        "  reversed_num = 0\n",
        "  while num > 0:\n",
        "    remainder = num % 10\n",
        "    reversed_num = (reversed_num * 10) + remainder\n",
        "    num //= 10\n",
        "  return reversed_num\n",
        "\n",
        "# Get input from the user\n",
        "number = int(input(\"Enter an integer: \"))\n",
        "\n",
        "# Reverse the number and print the result\n",
        "reversed_number = reverse_integer(number)\n",
        "print(\"Reversed number:\", reversed_number)\n"
      ],
      "metadata": {
        "id": "wJwLpKCr3aVA",
        "outputId": "a09ecf2e-6f31-4eab-b286-f5cf51a1a70d",
        "colab": {
          "base_uri": "https://localhost:8080/"
        }
      },
      "execution_count": 8,
      "outputs": [
        {
          "output_type": "stream",
          "name": "stdout",
          "text": [
            "Enter an integer: 890\n",
            "Reversed number: 98\n"
          ]
        }
      ]
    },
    {
      "cell_type": "markdown",
      "source": [
        "### `Problem 8`: Take a user input as integer N. Find out the sum from 1 to N. If any number if divisible by 5, then skip that number. And if the sum is greater than 300, don't need to calculate the sum further more. Print the final result. And don't use for loop to solve this problem.\n",
        "\n",
        "**Example 1:**\n",
        "\n",
        "`Input:`\n",
        "\n",
        "```bash\n",
        "30\n",
        "```\n",
        "\n",
        "`Output:`\n",
        "\n",
        "```bash\n",
        "276\n",
        "```"
      ],
      "metadata": {
        "id": "-t8PJQaY3sHf"
      }
    },
    {
      "cell_type": "code",
      "source": [
        "def calculate_sum(N):\n",
        "  \"\"\"Calculates the sum from 1 to N, skipping multiples of 5 and stopping at 300.\n",
        "\n",
        "  Args:\n",
        "    N: The upper limit of the range.\n",
        "\n",
        "  Returns:\n",
        "    The calculated sum.\n",
        "  \"\"\"\n",
        "  num_list = list(range(1, N + 1))\n",
        "  filtered_list = [num for num in num_list if num % 5 != 0]\n",
        "\n",
        "  total_sum = 0\n",
        "\n",
        "  for num in filtered_list:\n",
        "      if total_sum + num <= 300:\n",
        "          total_sum += num\n",
        "      else:\n",
        "          break\n",
        "\n",
        "  return total_sum\n",
        "\n",
        "# Get input from the user\n",
        "N = int(input(\"Enter an integer N: \"))\n",
        "\n",
        "# Calculate and print the sum\n",
        "result = calculate_sum(N)\n",
        "print(\"The sum is:\", result)"
      ],
      "metadata": {
        "id": "GZB6mGMP3ujT",
        "outputId": "7f4b923e-af1b-4f17-81d5-fce0c89d67b1",
        "colab": {
          "base_uri": "https://localhost:8080/"
        }
      },
      "execution_count": 9,
      "outputs": [
        {
          "output_type": "stream",
          "name": "stdout",
          "text": [
            "Enter an integer N: 10\n",
            "The sum is: 40\n"
          ]
        }
      ]
    },
    {
      "cell_type": "markdown",
      "source": [
        "### `Problem 9`: Write a program that keeps on accepting a number from the user until the user enters Zero. Display the sum and average of all the numbers."
      ],
      "metadata": {
        "id": "Q7ggImeA3xm4"
      }
    },
    {
      "cell_type": "code",
      "source": [
        "def calculate_sum_and_average():\n",
        "  \"\"\"Calculates the sum and average of numbers entered by the user until 0 is entered.\"\"\"\n",
        "  numbers = []\n",
        "  while True:\n",
        "    num = int(input(\"Enter a number (enter 0 to stop): \"))\n",
        "    if num == 0:\n",
        "      break\n",
        "    numbers.append(num)\n",
        "\n",
        "  if numbers:\n",
        "    total_sum = sum(numbers)\n",
        "    average = total_sum / len(numbers)\n",
        "    print(\"Sum:\", total_sum)\n",
        "    print(\"Average:\", average)\n",
        "  else:\n",
        "    print(\"No numbers entered.\")\n",
        "\n",
        "# Run the program\n",
        "calculate_sum_and_average()\n",
        "45\n"
      ],
      "metadata": {
        "id": "t_YDSZDe4Kdo",
        "outputId": "27808dc3-0c19-4b0b-aeba-328a50aebe95",
        "colab": {
          "base_uri": "https://localhost:8080/"
        }
      },
      "execution_count": 11,
      "outputs": [
        {
          "output_type": "stream",
          "name": "stdout",
          "text": [
            "Enter a number (enter 0 to stop): 10\n",
            "Enter a number (enter 0 to stop): 3\n",
            "Enter a number (enter 0 to stop): 5\n",
            "Enter a number (enter 0 to stop): 0\n",
            "Sum: 18\n",
            "Average: 6.0\n"
          ]
        },
        {
          "output_type": "execute_result",
          "data": {
            "text/plain": [
              "45"
            ]
          },
          "metadata": {},
          "execution_count": 11
        }
      ]
    },
    {
      "cell_type": "markdown",
      "source": [
        "###`Problem 9`: Write a program which will find all such numbers which are divisible by 7 but are not a multiple of 5, between 2000 and 3200 (both included). The numbers obtained should be printed in a comma-separated sequence on a single line."
      ],
      "metadata": {
        "id": "6EhvEMvm4R7s"
      }
    },
    {
      "cell_type": "code",
      "source": [
        "def find_numbers():\n",
        "  \"\"\"Finds numbers divisible by 7 but not by 5 between 2000 and 3200.\"\"\"\n",
        "  result = []\n",
        "  for num in range(2000, 3201):\n",
        "    if (num % 7 == 0) and (num % 5 != 0):\n",
        "      result.append(str(num))  # Convert to string for comma separation\n",
        "  return \",\".join(result)  # Join with commas\n",
        "\n",
        "# Find and print the numbers\n",
        "numbers = find_numbers()\n",
        "print(numbers)"
      ],
      "metadata": {
        "id": "d6RgP1B34T6c",
        "outputId": "648fa214-92e2-470f-c167-8ba448f87421",
        "colab": {
          "base_uri": "https://localhost:8080/"
        }
      },
      "execution_count": 12,
      "outputs": [
        {
          "output_type": "stream",
          "name": "stdout",
          "text": [
            "2002,2009,2016,2023,2037,2044,2051,2058,2072,2079,2086,2093,2107,2114,2121,2128,2142,2149,2156,2163,2177,2184,2191,2198,2212,2219,2226,2233,2247,2254,2261,2268,2282,2289,2296,2303,2317,2324,2331,2338,2352,2359,2366,2373,2387,2394,2401,2408,2422,2429,2436,2443,2457,2464,2471,2478,2492,2499,2506,2513,2527,2534,2541,2548,2562,2569,2576,2583,2597,2604,2611,2618,2632,2639,2646,2653,2667,2674,2681,2688,2702,2709,2716,2723,2737,2744,2751,2758,2772,2779,2786,2793,2807,2814,2821,2828,2842,2849,2856,2863,2877,2884,2891,2898,2912,2919,2926,2933,2947,2954,2961,2968,2982,2989,2996,3003,3017,3024,3031,3038,3052,3059,3066,3073,3087,3094,3101,3108,3122,3129,3136,3143,3157,3164,3171,3178,3192,3199\n"
          ]
        }
      ]
    },
    {
      "cell_type": "markdown",
      "source": [
        "###`Problem 10`: Write a program, which will find all such numbers between 1000 and 3000 (both included) such that each digit of the number is an even number. The numbers obtained should be printed in a space-separated sequence on a single line.\n",
        "\n"
      ],
      "metadata": {
        "id": "tYvmRR-G4Vp4"
      }
    },
    {
      "cell_type": "code",
      "source": [
        "def find_even_digit_numbers():\n",
        "  \"\"\"Finds numbers between 1000 and 3000 with all even digits.\"\"\"\n",
        "  result = []\n",
        "  for num in range(1000, 3001):\n",
        "    if all(int(digit) % 2 == 0 for digit in str(num)):\n",
        "      result.append(str(num))\n",
        "  return \" \".join(result)\n",
        "\n",
        "# Find and print the numbers\n",
        "numbers = find_even_digit_numbers()\n",
        "print(numbers)"
      ],
      "metadata": {
        "id": "k6Gs1kIf4k19",
        "outputId": "16670d37-b45e-4e74-a947-82d215f5d2db",
        "colab": {
          "base_uri": "https://localhost:8080/"
        }
      },
      "execution_count": 13,
      "outputs": [
        {
          "output_type": "stream",
          "name": "stdout",
          "text": [
            "2000 2002 2004 2006 2008 2020 2022 2024 2026 2028 2040 2042 2044 2046 2048 2060 2062 2064 2066 2068 2080 2082 2084 2086 2088 2200 2202 2204 2206 2208 2220 2222 2224 2226 2228 2240 2242 2244 2246 2248 2260 2262 2264 2266 2268 2280 2282 2284 2286 2288 2400 2402 2404 2406 2408 2420 2422 2424 2426 2428 2440 2442 2444 2446 2448 2460 2462 2464 2466 2468 2480 2482 2484 2486 2488 2600 2602 2604 2606 2608 2620 2622 2624 2626 2628 2640 2642 2644 2646 2648 2660 2662 2664 2666 2668 2680 2682 2684 2686 2688 2800 2802 2804 2806 2808 2820 2822 2824 2826 2828 2840 2842 2844 2846 2848 2860 2862 2864 2866 2868 2880 2882 2884 2886 2888\n"
          ]
        }
      ]
    },
    {
      "cell_type": "markdown",
      "source": [
        "###`Problem 11`: A robot moves in a plane starting from the original point (0,0). The robot can move toward UP, DOWN, LEFT and RIGHT with a given steps.\n",
        "The trace of robot movement is shown as the following:\n",
        "```\n",
        "UP 5\n",
        "DOWN 3\n",
        "LEFT 3\n",
        "RIGHT 2\n",
        "!\n",
        "```\n",
        "> The numbers after the direction are steps.\n",
        "\n",
        "> `!` means robot stop there.\n",
        "\n",
        "**Please write a program to compute the distance from current position after a sequence of movement and original point.**\n",
        "\n",
        "*If the distance is a float, then just print the nearest integer.*\n",
        "\n",
        "Example:\n",
        "\n",
        "`Input`:\n",
        "```\n",
        "UP 5\n",
        "DOWN 3\n",
        "LEFT 3\n",
        "RIGHT 2\n",
        "!\n",
        "```\n",
        "`Output`:\n",
        "```\n",
        "2\n",
        "```"
      ],
      "metadata": {
        "id": "GV18IINT4mf5"
      }
    },
    {
      "cell_type": "code",
      "source": [
        "import math\n",
        "\n",
        "def calculate_distance():\n",
        "  \"\"\"Calculates the distance of the robot from the origin.\"\"\"\n",
        "  x, y = 0, 0  # Initial position\n",
        "  while True:\n",
        "    movement = input(\"Enter movement (e.g., UP 5, ! to stop): \")\n",
        "    if movement == \"!\":\n",
        "      break\n",
        "\n",
        "    # Split the input and handle cases with missing direction or steps\n",
        "    parts = movement.split()\n",
        "    if len(parts) == 2:  # Check if both direction and steps are provided\n",
        "        direction, steps = parts\n",
        "        steps = int(steps)\n",
        "    else:\n",
        "        print(\"Invalid input. Please enter direction and steps separated by a space.\")\n",
        "        continue  # Skip to the next iteration of the loop\n",
        "\n",
        "    if direction == \"UP\":\n",
        "      y += steps\n",
        "    elif direction == \"DOWN\":\n",
        "      y -= steps\n",
        "    elif direction == \"LEFT\":\n",
        "      x -= steps\n",
        "    elif direction == \"RIGHT\":\n",
        "      x += steps\n",
        "  distance = math.sqrt(x**2 + y**2)  # Calculate distance\n",
        "  return round(distance)  # Round to nearest integer\n",
        "\n",
        "# Calculate and print the distance\n",
        "distance = calculate_distance()\n",
        "print(\"Distance from origin:\", distance)"
      ],
      "metadata": {
        "id": "6UNMC2aR4w5x",
        "outputId": "3dc84e7c-76cc-4443-e7ef-3293c105780d",
        "colab": {
          "base_uri": "https://localhost:8080/"
        }
      },
      "execution_count": 15,
      "outputs": [
        {
          "output_type": "stream",
          "name": "stdout",
          "text": [
            "Enter movement (e.g., UP 5, ! to stop): 5\n",
            "Invalid input. Please enter direction and steps separated by a space.\n",
            "Enter movement (e.g., UP 5, ! to stop): 3\n",
            "Invalid input. Please enter direction and steps separated by a space.\n",
            "Enter movement (e.g., UP 5, ! to stop): 2\n",
            "Invalid input. Please enter direction and steps separated by a space.\n",
            "Enter movement (e.g., UP 5, ! to stop): 2\n",
            "Invalid input. Please enter direction and steps separated by a space.\n",
            "Enter movement (e.g., UP 5, ! to stop): !\n",
            "Distance from origin: 0\n"
          ]
        }
      ]
    },
    {
      "cell_type": "markdown",
      "source": [
        "###`Problem 12`:Write a program to print whether a given number is a prime number or not"
      ],
      "metadata": {
        "id": "3fsAIAhK5GYY"
      }
    },
    {
      "cell_type": "code",
      "source": [
        "def is_prime(number):\n",
        "  \"\"\"\n",
        "  Checks if a given number is a prime number.\n",
        "\n",
        "  Args:\n",
        "    number: The number to check.\n",
        "\n",
        "  Returns:\n",
        "    True if the number is prime, False otherwise.\n",
        "  \"\"\"\n",
        "  # Prime numbers are greater than 1\n",
        "  if number <= 1:\n",
        "    return False\n",
        "\n",
        "  # Check for divisibility from 2 to the square root of the number\n",
        "  for i in range(2, int(number**0.5) + 1):\n",
        "    if number % i == 0:\n",
        "      return False  # If divisible, it's not prime\n",
        "\n",
        "  return True  # If not divisible by any number, it's prime\n",
        "\n",
        "# Get input from the user\n",
        "number = int(input(\"Enter a number: \"))\n",
        "\n",
        "# Check if the number is prime and print the result\n",
        "if is_prime(number):\n",
        "  print(f\"{number} is a prime number.\")\n",
        "else:\n",
        "  print(f\"{number} is not a prime number.\")"
      ],
      "metadata": {
        "id": "j6y91lxy5LZs",
        "outputId": "3fbe1516-b393-4758-bdb1-067e14276fab",
        "colab": {
          "base_uri": "https://localhost:8080/"
        }
      },
      "execution_count": 16,
      "outputs": [
        {
          "output_type": "stream",
          "name": "stdout",
          "text": [
            "Enter a number: 31\n",
            "31 is a prime number.\n"
          ]
        }
      ]
    },
    {
      "cell_type": "markdown",
      "source": [
        "###`Problem 13`:Print all the Armstrong numbers in a given range.\n",
        "Range will be provided by the user<br>\n",
        "Armstrong number is a number that is equal to the sum of cubes of its digits. For example 0, 1, 153, 370, 371 and 407 are the Armstrong numbers."
      ],
      "metadata": {
        "id": "asAbmbK-5NHv"
      }
    },
    {
      "cell_type": "code",
      "source": [
        "def is_armstrong(number):\n",
        "  \"\"\"Checks if a number is an Armstrong number.\"\"\"\n",
        "  num_str = str(number)\n",
        "  num_digits = len(num_str)\n",
        "  sum_of_cubes = sum(int(digit)**num_digits for digit in num_str)\n",
        "  return number == sum_of_cubes\n",
        "\n",
        "def find_armstrong_numbers(start, end):\n",
        "  \"\"\"Finds all Armstrong numbers within a given range.\"\"\"\n",
        "  armstrong_numbers = []\n",
        "  for num in range(start, end + 1):\n",
        "    if is_armstrong(num):\n",
        "      armstrong_numbers.append(num)\n",
        "  return armstrong_numbers\n",
        "\n",
        "# Get the range from the user\n",
        "start_range = int(input(\"Enter the starting number of the range: \"))\n",
        "end_range = int(input(\"Enter the ending number of the range: \"))\n",
        "\n",
        "# Find and print the Armstrong numbers\n",
        "armstrong_numbers = find_armstrong_numbers(start_range, end_range)\n",
        "print(\"Armstrong numbers in the range:\", armstrong_numbers)"
      ],
      "metadata": {
        "id": "PZuI67pm5jCT",
        "outputId": "1e19cf31-4698-499f-9054-97028df325b4",
        "colab": {
          "base_uri": "https://localhost:8080/"
        }
      },
      "execution_count": 18,
      "outputs": [
        {
          "output_type": "stream",
          "name": "stdout",
          "text": [
            "Enter the starting number of the range: 0\n",
            "Enter the ending number of the range: 500\n",
            "Armstrong numbers in the range: [0, 1, 2, 3, 4, 5, 6, 7, 8, 9, 153, 370, 371, 407]\n"
          ]
        }
      ]
    },
    {
      "cell_type": "markdown",
      "source": [
        "###`Problem 14`:Calculate the angle between the hour hand and minute hand.\n",
        "\n",
        "Note: There can be two angles between hands; we need to print a minimum of two. Also, we need to print the floor of the final result angle. For example, if the final angle is 10.61, we need to print 10.\n",
        "\n",
        "Input:<br>\n",
        "H = 9 , M = 0<br>\n",
        "Output:<br>\n",
        "90<br>\n",
        "Explanation:<br>\n",
        "The minimum angle between hour and minute\n",
        "hand when the time is 9 is 90 degress."
      ],
      "metadata": {
        "id": "ClCQZMqT7gK0"
      }
    },
    {
      "cell_type": "code",
      "source": [
        "import math\n",
        "\n",
        "def calculate_angle(hour, minute):\n",
        "  \"\"\"Calculates the minimum angle between the hour and minute hand.\"\"\"\n",
        "\n",
        "  # Handle 12-hour clock format\n",
        "  if hour == 12:\n",
        "    hour = 0\n",
        "  if minute == 60:\n",
        "    minute = 0\n",
        "    hour += 1\n",
        "    if hour > 12:\n",
        "      hour = hour - 12\n",
        "\n",
        "  # Calculate the angles of the hour and minute hand\n",
        "  hour_angle = (hour * 60 + minute) * 0.5  # Hour hand moves 0.5 degrees per minute\n",
        "  minute_angle = minute * 6  # Minute hand moves 6 degrees per minute\n",
        "\n",
        "  # Calculate the difference between the angles\n",
        "  angle = abs(hour_angle - minute_angle)\n",
        "\n",
        "  # Return the minimum angle\n",
        "  return math.floor(min(360 - angle, angle))\n",
        "\n",
        "# Get input from the user\n",
        "hour = int(input(\"Enter the hour (1-12): \"))\n",
        "minute = int(input(\"Enter the minute (0-59): \"))\n",
        "\n",
        "# Calculate and print the angle\n",
        "angle = calculate_angle(hour, minute)\n",
        "print(angle)"
      ],
      "metadata": {
        "id": "tNBTCZML7jy_",
        "outputId": "cdd8c264-6789-4efc-9100-c7444fbc6698",
        "colab": {
          "base_uri": "https://localhost:8080/"
        }
      },
      "execution_count": 19,
      "outputs": [
        {
          "output_type": "stream",
          "name": "stdout",
          "text": [
            "Enter the hour (1-12): 9\n",
            "Enter the minute (0-59): 0\n",
            "90\n"
          ]
        }
      ]
    },
    {
      "cell_type": "markdown",
      "source": [
        "###`Problem 15`:Given two rectangles, find if the given two rectangles overlap or not. A rectangle is denoted by providing the x and y coordinates of two points: the left top corner and the right bottom corner of the rectangle. Two rectangles sharing a side are considered overlapping. (L1 and R1 are the extreme points of the first rectangle and L2 and R2 are the extreme points of the second rectangle).\n",
        "\n",
        "Note: It may be assumed that the rectangles are parallel to the coordinate axis.\n",
        "\n",
        "<img src='https://www.geeksforgeeks.org/wp-content/uploads/rectanglesOverlap.png' width='300' height='200'>"
      ],
      "metadata": {
        "id": "GwacF9Co72Qc"
      }
    },
    {
      "cell_type": "code",
      "source": [
        "def do_overlap(L1, R1, L2, R2):\n",
        "  \"\"\"Checks if two rectangles overlap.\n",
        "\n",
        "  Args:\n",
        "    L1: Tuple (x1, y1) representing the top-left corner of the first rectangle.\n",
        "    R1: Tuple (x2, y2) representing the bottom-right corner of the first rectangle.\n",
        "    L2: Tuple (x3, y3) representing the top-left corner of the second rectangle.\n",
        "    R2: Tuple (x4, y4) representing the bottom-right corner of the second rectangle.\n",
        "\n",
        "  Returns:\n",
        "    True if the rectangles overlap, False otherwise.\n",
        "  \"\"\"\n",
        "\n",
        "  # If one rectangle is on left side of other\n",
        "  if L1[0] > R2[0] or L2[0] > R1[0]:\n",
        "    return False\n",
        "\n",
        "  # If one rectangle is above other\n",
        "  if L1[1] < R2[1] or L2[1] < R1[1]:\n",
        "    return False\n",
        "\n",
        "  return True  # Rectangles overlap\n",
        "\n",
        "\n",
        "# Example usage:\n",
        "L1 = (0, 10)\n",
        "R1 = (10, 0)\n",
        "L2 = (5, 5)\n",
        "R2 = (15, 0)\n",
        "\n",
        "if do_overlap(L1, R1, L2, R2):\n",
        "  print(\"Rectangles Overlap\")\n",
        "else:\n",
        "  print(\"Rectangles Don't Overlap\")"
      ],
      "metadata": {
        "id": "6rrw_lpH78Rs",
        "outputId": "90a66085-9dc3-417b-f44c-75cb7e382b1c",
        "colab": {
          "base_uri": "https://localhost:8080/"
        }
      },
      "execution_count": 20,
      "outputs": [
        {
          "output_type": "stream",
          "name": "stdout",
          "text": [
            "Rectangles Overlap\n"
          ]
        }
      ]
    },
    {
      "cell_type": "code",
      "source": [],
      "metadata": {
        "id": "wKcEKIb7z3XO"
      },
      "execution_count": null,
      "outputs": []
    }
  ]
}