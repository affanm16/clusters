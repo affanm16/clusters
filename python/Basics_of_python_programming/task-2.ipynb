{
  "cells": [
    {
      "cell_type": "markdown",
      "metadata": {
        "id": "w6RlOAXV2PWh"
      },
      "source": [
        "### `Problem 1`: Write a program that will give you in hand monthly salary after deduction on CTC - HRA(10%), DA(5%), PF(3%) and taxes deduction as below:\n",
        "\n",
        "> Salary(Lakhs) : Tax(%)\n",
        "\n",
        "*   Below 5 : 0%\n",
        "*   5-10 : 10%\n",
        "*   10-20 : 20%\n",
        "*   aboove 20 : 30%"
      ]
    },
    {
      "cell_type": "code",
      "execution_count": 1,
      "metadata": {
        "id": "7tMHvKYO2etI"
      },
      "outputs": [
        {
          "name": "stdout",
          "output_type": "stream",
          "text": [
            "Your in hand monthly salary will be- 27333.33\n"
          ]
        }
      ],
      "source": [
        "ctc = int(input('Enter your anual CTC:'))\n",
        "\n",
        "if ctc < 5000000:\n",
        "    salary=ctc*.82\n",
        "elif ctc<1000000:\n",
        "    salary=ctc*.72\n",
        "elif ctc<2000000:\n",
        "    salary=ctc*.62\n",
        "else:\n",
        "    salary=ctc*.52\n",
        "\n",
        "print(\"Your in hand monthly salary will be-\", round(salary/12,2))"
      ]
    },
    {
      "cell_type": "markdown",
      "metadata": {
        "id": "tYzCGqwl2hfN"
      },
      "source": [
        "### `Problem 2`: Write a program that take a user input of three angles and will find out whether it can form a triangle or not."
      ]
    },
    {
      "cell_type": "code",
      "execution_count": 1,
      "metadata": {
        "id": "FYEqln-I2kxV"
      },
      "outputs": [
        {
          "name": "stdout",
          "output_type": "stream",
          "text": [
            "YES\n"
          ]
        }
      ],
      "source": [
        "a=float(input(\"input the first angle\"))\n",
        "b=float(input(\"input the second angle\"))\n",
        "c=float(input(\"input the third angle\"))\n",
        "if a+b+c==180:\n",
        "    print('YES')\n",
        "else:\n",
        "    print('No')\n"
      ]
    },
    {
      "cell_type": "markdown",
      "metadata": {
        "id": "5vEpPh8C2pE4"
      },
      "source": [
        "### `Problem 3`: Write a program that will take user input of cost price and selling price and determines whether its a loss or a profit."
      ]
    },
    {
      "cell_type": "code",
      "execution_count": 4,
      "metadata": {
        "id": "jDwBXlkO2sfl"
      },
      "outputs": [
        {
          "name": "stdout",
          "output_type": "stream",
          "text": [
            "no loss -no profit\n"
          ]
        }
      ],
      "source": [
        "cost=int(input(\"input the cost price\"))\n",
        "sell=int(input(\"input the selling price\"))\n",
        "if sell-cost >0:\n",
        "    print(\"profit\")\n",
        "elif sell-cost <0:\n",
        "    print(\"Loss\")\n",
        "else:\n",
        "    print(\"no loss -no profit\")"
      ]
    },
    {
      "cell_type": "markdown",
      "metadata": {
        "id": "J_FG_cJW2ugT"
      },
      "source": [
        "### `Problem 4`: Write a menu-driven program -\n",
        "1. cm to ft\n",
        "2. km to miles\n",
        "3. USD to INR\n",
        "4. exit"
      ]
    },
    {
      "cell_type": "code",
      "execution_count": 16,
      "metadata": {
        "id": "yBHhaCGQ2zpD"
      },
      "outputs": [
        {
          "name": "stdout",
          "output_type": "stream",
          "text": [
            "\n",
            "choose any one option\n",
            "1. cm to ft\n",
            "2. km to miles\n",
            "3. USD to INR\n",
            "4. exit\n",
            "\n",
            "6918.88\n"
          ]
        }
      ],
      "source": [
        "print(\"\"\"\n",
        "choose any one option\n",
        "1. cm to ft\n",
        "2. km to miles\n",
        "3. USD to INR\n",
        "4. exit\n",
        "\"\"\")\n",
        "def cmtoft(cm):\n",
        "    ft= 0.0328084*cm\n",
        "    print(ft)\n",
        "def kmtomiles(km):\n",
        "    miles=0.621371*km\n",
        "    print(miles)\n",
        "def usdtoinr(usd):\n",
        "    inr=83.36*usd\n",
        "    print(inr)\n",
        "x=int(input(\"enter here\"))\n",
        "if x==1:\n",
        "    a=int(input(\"enter cm value\"))\n",
        "    cmtoft(a)\n",
        "    exit\n",
        "elif x==2:\n",
        "    b=int(input(\"enter km value\"))\n",
        "    kmtomiles(b)\n",
        "    exit\n",
        "elif x==3:\n",
        "    c=int(input(\"enter usd value\"))\n",
        "    usdtoinr(c)\n",
        "    exit\n",
        "else:\n",
        "    print(\"exiting\")\n",
        "    exit"
      ]
    },
    {
      "cell_type": "markdown",
      "metadata": {
        "id": "LJJ30_Yw27ZU"
      },
      "source": [
        "### `Problem 5` - Exercise 12: Display Fibonacci series up to 10 terms.\n",
        "\n",
        "*Note: The Fibonacci Sequence is a series of numbers. The next number is found by adding up the two numbers before it. The first two numbers are 0 and 1. For example, 0, 1, 1, 2, 3, 5, 8, 13, 21. The next number in this series above is 13+21 = 34*"
      ]
    },
    {
      "cell_type": "code",
      "execution_count": 22,
      "metadata": {
        "id": "ae_1rpe52-5R"
      },
      "outputs": [
        {
          "name": "stdout",
          "output_type": "stream",
          "text": [
            "0\n",
            "1\n",
            "1\n",
            "2\n",
            "3\n"
          ]
        }
      ],
      "source": [
        "def fib(n):\n",
        "    if n<0:\n",
        "        print(\"input correct term\")\n",
        "    elif n==0:\n",
        "        return 0\n",
        "    elif n==1 or n==2:\n",
        "        return 1\n",
        "    else:\n",
        "        return fib(n-1)+fib(n-2)\n",
        "n=int(input(\"input the term\"))\n",
        "for i in range(0,n+1):\n",
        "    print(fib(i))"
      ]
    },
    {
      "cell_type": "markdown",
      "metadata": {
        "id": "pk_I_S4m3PT5"
      },
      "source": [
        "### `Problem 6` - Find the factorial of a given number.\n",
        "\n",
        "Write a program to use the loop to find the factorial of a given number.\n",
        "\n",
        "The factorial (symbol: `!`) means to multiply all whole numbers from the chosen number down to 1.\n",
        "\n",
        "For example: calculate the factorial of 5\n",
        "\n",
        "```bash\n",
        "5! = 5 × 4 × 3 × 2 × 1 = 120\n",
        "```\n",
        "\n",
        "Output:\n",
        "\n",
        "```bash\n",
        "120\n",
        "```"
      ]
    },
    {
      "cell_type": "code",
      "execution_count": 25,
      "metadata": {},
      "outputs": [
        {
          "name": "stdout",
          "output_type": "stream",
          "text": [
            "The factorial of 23 is : 2\n"
          ]
        }
      ],
      "source": [
        "n = 2\n",
        "fact = 1\n",
        " \n",
        "for i in range(1, n+1):\n",
        "    fact = fact * i\n",
        " \n",
        "print(\"The factorial of 23 is : \", end=\"\")\n",
        "print(fact)"
      ]
    },
    {
      "cell_type": "code",
      "execution_count": 30,
      "metadata": {
        "id": "lzXxHegx3Rkc"
      },
      "outputs": [
        {
          "name": "stdout",
          "output_type": "stream",
          "text": [
            "120\n"
          ]
        }
      ],
      "source": [
        "\n",
        "def fact(n):\n",
        "    f=1\n",
        "    for i in range(1,n+1):\n",
        "        f=f*i\n",
        "    return f\n",
        "\n",
        "print(fact(5))\n",
        "    "
      ]
    },
    {
      "cell_type": "markdown",
      "metadata": {
        "id": "-17IOi-g3UpU"
      },
      "source": [
        "### `Problem 7` - Reverse a given integer number.\n",
        "\n",
        "Example:\n",
        "\n",
        "`Input:`\n",
        "\n",
        "```bash\n",
        "76542\n",
        "```\n",
        "\n",
        "`Output:`\n",
        "\n",
        "```bash\n",
        "24567\n",
        "```"
      ]
    },
    {
      "cell_type": "code",
      "execution_count": 33,
      "metadata": {
        "id": "wJwLpKCr3aVA"
      },
      "outputs": [
        {
          "name": "stdout",
          "output_type": "stream",
          "text": [
            "321\n"
          ]
        }
      ],
      "source": [
        "num=int(input(\"input the number\"))\n",
        "str_num=str(num)\n",
        "print(str_num[::-1])"
      ]
    },
    {
      "cell_type": "markdown",
      "metadata": {
        "id": "-t8PJQaY3sHf"
      },
      "source": [
        "### `Problem 8`: Take a user input as integer N. Find out the sum from 1 to N. If any number if divisible by 5, then skip that number. And if the sum is greater than 300, don't need to calculate the sum further more. Print the final result. And don't use for loop to solve this problem.\n",
        "\n",
        "**Example 1:**\n",
        "\n",
        "`Input:`\n",
        "\n",
        "```bash\n",
        "30\n",
        "```\n",
        "\n",
        "`Output:`\n",
        "\n",
        "```bash\n",
        "276\n",
        "```"
      ]
    },
    {
      "cell_type": "code",
      "execution_count": 2,
      "metadata": {
        "id": "GZB6mGMP3ujT"
      },
      "outputs": [
        {
          "name": "stdout",
          "output_type": "stream",
          "text": [
            "276\n"
          ]
        }
      ],
      "source": [
        "# Write code here\n",
        "N = int(input('enter the number'))\n",
        "sum = 0\n",
        "i = 1\n",
        "\n",
        "while i < N+1:\n",
        "  if i % 5 == 0:\n",
        "    i+=1\n",
        "    continue\n",
        "\n",
        "  sum += i\n",
        "\n",
        "  if sum > 300:\n",
        "    sum = sum - i\n",
        "    break\n",
        "\n",
        "  i+=1\n",
        "\n",
        "print(sum)\n"
      ]
    },
    {
      "cell_type": "markdown",
      "metadata": {
        "id": "Q7ggImeA3xm4"
      },
      "source": [
        "### `Problem 9`: Write a program that keeps on accepting a number from the user until the user enters Zero. Display the sum and average of all the numbers."
      ]
    },
    {
      "cell_type": "code",
      "execution_count": 23,
      "metadata": {
        "id": "t_YDSZDe4Kdo"
      },
      "outputs": [
        {
          "name": "stdout",
          "output_type": "stream",
          "text": [
            "[10, 20, 30]\n",
            "60 20.0\n"
          ]
        }
      ],
      "source": [
        "numbers = []\n",
        "while True:\n",
        "    num =int(input(\"Enter a number (enter 0 to stop): \"))\n",
        "    if num == 0:\n",
        "        break\n",
        "    numbers.append(num)\n",
        "print(numbers)\n",
        "sum_total=0\n",
        "for i in range(0,len(numbers)):\n",
        "    sum_total=sum_total+numbers[i]\n",
        "avg=sum_total/len(numbers)\n",
        "print(sum_total,avg)"
      ]
    },
    {
      "cell_type": "markdown",
      "metadata": {
        "id": "6EhvEMvm4R7s"
      },
      "source": [
        "###`Problem 9`: Write a program which will find all such numbers which are divisible by 7 but are not a multiple of 5, between 2000 and 3200 (both included). The numbers obtained should be printed in a comma-separated sequence on a single line."
      ]
    },
    {
      "cell_type": "code",
      "execution_count": 24,
      "metadata": {
        "id": "d6RgP1B34T6c"
      },
      "outputs": [
        {
          "name": "stdout",
          "output_type": "stream",
          "text": [
            "2002,2009,2016,2023,2037,2044,2051,2058,2072,2079,2086,2093,2107,2114,2121,2128,2142,2149,2156,2163,2177,2184,2191,2198,2212,2219,2226,2233,2247,2254,2261,2268,2282,2289,2296,2303,2317,2324,2331,2338,2352,2359,2366,2373,2387,2394,2401,2408,2422,2429,2436,2443,2457,2464,2471,2478,2492,2499,2506,2513,2527,2534,2541,2548,2562,2569,2576,2583,2597,2604,2611,2618,2632,2639,2646,2653,2667,2674,2681,2688,2702,2709,2716,2723,2737,2744,2751,2758,2772,2779,2786,2793,2807,2814,2821,2828,2842,2849,2856,2863,2877,2884,2891,2898,2912,2919,2926,2933,2947,2954,2961,2968,2982,2989,2996,3003,3017,3024,3031,3038,3052,3059,3066,3073,3087,3094,3101,3108,3122,3129,3136,3143,3157,3164,3171,3178,3192,3199,"
          ]
        }
      ],
      "source": [
        "for i in range(2000,3201):\n",
        "    if i%7==0 and i%5!=0:\n",
        "        print(i,end=',')\n",
        "    else:\n",
        "        continue"
      ]
    },
    {
      "cell_type": "markdown",
      "metadata": {
        "id": "tYvmRR-G4Vp4"
      },
      "source": [
        "###`Problem 10`: Write a program, which will find all such numbers between 1000 and 3000 (both included) such that each digit of the number is an even number. The numbers obtained should be printed in a space-separated sequence on a single line.\n",
        "\n"
      ]
    },
    {
      "cell_type": "code",
      "execution_count": 3,
      "metadata": {
        "id": "k6Gs1kIf4k19"
      },
      "outputs": [
        {
          "name": "stdout",
          "output_type": "stream",
          "text": [
            "2000,2002,2004,2006,2008,2020,2022,2024,2026,2028,2040,2042,2044,2046,2048,2060,2062,2064,2066,2068,2080,2082,2084,2086,2088,2200,2202,2204,2206,2208,2220,2222,2224,2226,2228,2240,2242,2244,2246,2248,2260,2262,2264,2266,2268,2280,2282,2284,2286,2288,2400,2402,2404,2406,2408,2420,2422,2424,2426,2428,2440,2442,2444,2446,2448,2460,2462,2464,2466,2468,2480,2482,2484,2486,2488,2600,2602,2604,2606,2608,2620,2622,2624,2626,2628,2640,2642,2644,2646,2648,2660,2662,2664,2666,2668,2680,2682,2684,2686,2688,2800,2802,2804,2806,2808,2820,2822,2824,2826,2828,2840,2842,2844,2846,2848,2860,2862,2864,2866,2868,2880,2882,2884,2886,2888\n"
          ]
        }
      ],
      "source": [
        "# Write code here\n",
        "L = []\n",
        "for i in range(1000,3001):\n",
        "  flag = True\n",
        "\n",
        "  curr = i\n",
        "\n",
        "  while curr > 0:\n",
        "    last = curr%10\n",
        "    if last % 2 != 0:\n",
        "      flag = False\n",
        "      break\n",
        "    curr = curr//10\n",
        "\n",
        "  if flag == True:\n",
        "    L.append(str(i))\n",
        "\n",
        "print(\",\".join(L))"
      ]
    },
    {
      "cell_type": "markdown",
      "metadata": {
        "id": "GV18IINT4mf5"
      },
      "source": [
        "###`Problem 11`: A robot moves in a plane starting from the original point (0,0). The robot can move toward UP, DOWN, LEFT and RIGHT with a given steps.\n",
        "The trace of robot movement is shown as the following:\n",
        "```\n",
        "UP 5\n",
        "DOWN 3\n",
        "LEFT 3\n",
        "RIGHT 2\n",
        "!\n",
        "```\n",
        "> The numbers after the direction are steps.\n",
        "\n",
        "> `!` means robot stop there.\n",
        "\n",
        "**Please write a program to compute the distance from current position after a sequence of movement and original point.**\n",
        "\n",
        "*If the distance is a float, then just print the nearest integer.*\n",
        "\n",
        "Example:\n",
        "\n",
        "`Input`:\n",
        "```\n",
        "UP 5\n",
        "DOWN 3\n",
        "LEFT 3\n",
        "RIGHT 2\n",
        "!\n",
        "```\n",
        "`Output`:\n",
        "```\n",
        "2\n",
        "```"
      ]
    },
    {
      "cell_type": "code",
      "execution_count": 5,
      "metadata": {
        "id": "6UNMC2aR4w5x"
      },
      "outputs": [
        {
          "ename": "IndexError",
          "evalue": "list index out of range",
          "output_type": "error",
          "traceback": [
            "\u001b[1;31m---------------------------------------------------------------------------\u001b[0m",
            "\u001b[1;31mIndexError\u001b[0m                                Traceback (most recent call last)",
            "Cell \u001b[1;32mIn[5], line 8\u001b[0m\n\u001b[0;32m      6\u001b[0m   \u001b[38;5;28;01mbreak\u001b[39;00m\n\u001b[0;32m      7\u001b[0m direction \u001b[38;5;241m=\u001b[39m s\u001b[38;5;241m.\u001b[39msplit()[\u001b[38;5;241m0\u001b[39m]\n\u001b[1;32m----> 8\u001b[0m steps \u001b[38;5;241m=\u001b[39m \u001b[38;5;28mint\u001b[39m(\u001b[43ms\u001b[49m\u001b[38;5;241;43m.\u001b[39;49m\u001b[43msplit\u001b[49m\u001b[43m(\u001b[49m\u001b[43m)\u001b[49m\u001b[43m[\u001b[49m\u001b[38;5;241;43m1\u001b[39;49m\u001b[43m]\u001b[49m)\n\u001b[0;32m     10\u001b[0m \u001b[38;5;28;01mif\u001b[39;00m direction \u001b[38;5;241m==\u001b[39m \u001b[38;5;124m'\u001b[39m\u001b[38;5;124mUP\u001b[39m\u001b[38;5;124m'\u001b[39m:\n\u001b[0;32m     11\u001b[0m   pos[\u001b[38;5;241m1\u001b[39m] \u001b[38;5;241m=\u001b[39m pos[\u001b[38;5;241m1\u001b[39m] \u001b[38;5;241m+\u001b[39m steps\n",
            "\u001b[1;31mIndexError\u001b[0m: list index out of range"
          ]
        }
      ],
      "source": [
        "# Write code here\n",
        "pos = [0,0]\n",
        "while True:\n",
        "  s = input('Enter the robot path')\n",
        "  if s == '!':\n",
        "    break\n",
        "  direction = s.split()[0]\n",
        "  steps = int(s.split()[1])\n",
        "\n",
        "  if direction == 'UP':\n",
        "    pos[1] = pos[1] + steps\n",
        "  elif direction == 'DOWN':\n",
        "    pos[1] = pos[1] - steps\n",
        "  elif direction == 'LEFT':\n",
        "    pos[0] = pos[0] - steps\n",
        "  elif direction == 'RIGHT':\n",
        "    pos[0] = pos[0] + steps\n",
        "  else:\n",
        "    pass\n",
        "\n",
        "print('new pos',pos)\n",
        "print((pos[0]**2 + pos[1]**2)**0.5)"
      ]
    },
    {
      "cell_type": "markdown",
      "metadata": {
        "id": "3fsAIAhK5GYY"
      },
      "source": [
        "###`Problem 12`:Write a program to print whether a given number is a prime number or not"
      ]
    },
    {
      "cell_type": "code",
      "execution_count": 6,
      "metadata": {
        "id": "j6y91lxy5LZs"
      },
      "outputs": [
        {
          "name": "stdout",
          "output_type": "stream",
          "text": [
            "Prime\n"
          ]
        }
      ],
      "source": [
        "# Write code here\n",
        "num = int(input('enter the num'))\n",
        "\n",
        "flag = True\n",
        "for i in range(2,num):\n",
        "  if num%i == 0:\n",
        "    flag = False\n",
        "    break\n",
        "\n",
        "if flag == True:\n",
        "  print('Prime')\n",
        "else:\n",
        "  print('Not Prime')\n"
      ]
    },
    {
      "cell_type": "markdown",
      "metadata": {
        "id": "asAbmbK-5NHv"
      },
      "source": [
        "###`Problem 13`:Print all the Armstrong numbers in a given range.\n",
        "Range will be provided by the user<br>\n",
        "Armstrong number is a number that is equal to the sum of cubes of its digits. For example 0, 1, 153, 370, 371 and 407 are the Armstrong numbers."
      ]
    },
    {
      "cell_type": "code",
      "execution_count": 7,
      "metadata": {
        "id": "PZuI67pm5jCT"
      },
      "outputs": [
        {
          "name": "stdout",
          "output_type": "stream",
          "text": [
            "1\n",
            "2\n",
            "3\n",
            "4\n",
            "5\n",
            "6\n",
            "7\n",
            "8\n",
            "9\n",
            "153\n"
          ]
        }
      ],
      "source": [
        "# Write code here\n",
        "start = int(input(\"Enter the start of the range: \"))\n",
        "end = int(input(\"Enter the end of the range: \"))\n",
        "\n",
        "for num in range(start, end+1):\n",
        "    temp = num\n",
        "    sum = 0\n",
        "    order = len(str(num))\n",
        "    while temp > 0:\n",
        "        digit = temp % 10\n",
        "        sum += digit ** order\n",
        "        temp //= 10\n",
        "    if num == sum:\n",
        "        print(num)\n",
        "\n"
      ]
    },
    {
      "cell_type": "markdown",
      "metadata": {
        "id": "ClCQZMqT7gK0"
      },
      "source": [
        "###`Problem 14`:Calculate the angle between the hour hand and minute hand.\n",
        "\n",
        "Note: There can be two angles between hands; we need to print a minimum of two. Also, we need to print the floor of the final result angle. For example, if the final angle is 10.61, we need to print 10.\n",
        "\n",
        "Input:<br>\n",
        "H = 9 , M = 0<br>\n",
        "Output:<br>\n",
        "90<br>\n",
        "Explanation:<br>\n",
        "The minimum angle between hour and minute\n",
        "hand when the time is 9 is 90 degress."
      ]
    },
    {
      "cell_type": "code",
      "execution_count": 8,
      "metadata": {
        "id": "tNBTCZML7jy_"
      },
      "outputs": [
        {
          "name": "stdout",
          "output_type": "stream",
          "text": [
            "130.0\n"
          ]
        }
      ],
      "source": [
        "# Write code here\n",
        "\n",
        "# Write code here\n",
        "h = int(input('Enter hours hand-'))\n",
        "m = int(input('Enter minute hand-'))\n",
        "\n",
        "# validate the input\n",
        "if (h < 0 or m < 0 or h > 12 or m > 60):\n",
        "    print('Wrong input')\n",
        "\n",
        "# Idea is to minute angle - hour agnle from clockwise from 12 hour point\n",
        "\n",
        "# 1 minute in minute angle manke 6 degree. (60 minute -> 360 degree)\n",
        "m_angle = m*6\n",
        "\n",
        "# every hour point yeilds to 30degree-- 12 hours-360degree plus if minute hand moves hour hands move too\n",
        "# Every minute after hour hand take 0.5 degree movement. clockwise\n",
        "h_angle = h*30 + m*0.5\n",
        "\n",
        "# Take abs difference b/w them\n",
        "angle = abs(h_angle - m_angle)\n",
        "\n",
        "\n",
        "if angle>180:\n",
        "    print(360-angle)\n",
        "else:\n",
        "    print(angle)"
      ]
    },
    {
      "cell_type": "markdown",
      "metadata": {
        "id": "GwacF9Co72Qc"
      },
      "source": [
        "###`Problem 15`:Given two rectangles, find if the given two rectangles overlap or not. A rectangle is denoted by providing the x and y coordinates of two points: the left top corner and the right bottom corner of the rectangle. Two rectangles sharing a side are considered overlapping. (L1 and R1 are the extreme points of the first rectangle and L2 and R2 are the extreme points of the second rectangle).\n",
        "\n",
        "Note: It may be assumed that the rectangles are parallel to the coordinate axis.\n",
        "\n",
        "<img src='https://www.geeksforgeeks.org/wp-content/uploads/rectanglesOverlap.png' width='300' height='200'>"
      ]
    },
    {
      "cell_type": "code",
      "execution_count": 10,
      "metadata": {
        "id": "6rrw_lpH78Rs"
      },
      "outputs": [
        {
          "name": "stdout",
          "output_type": "stream",
          "text": [
            "Enter both Rectangel points coordinates <x y>\n",
            "Overlap\n"
          ]
        }
      ],
      "source": [
        "# Write code here\n",
        "print(\"Enter both Rectangel points coordinates <x y>\")\n",
        "\n",
        "l1_x, l1_y = list(map(int, input('Enter L1 coordinate value  (Two value space seperated):').split()))\n",
        "r1_x, r1_y = list(map(int, input('Enter r1 coordinate value,(Two value space seperated):').split()))\n",
        "\n",
        "l2_x, l2_y = list(map(int, input('Enter L2 coordinate value,(Two value space seperated):').split()))\n",
        "r2_x, r2_y = list(map(int, input('Enter r2 coordinate value,(Two value space seperated):').split()))\n",
        "\n",
        "# if rectangle has area 0, no overlap\n",
        "if l1_x == r1_x or l1_y == r1_y or r2_x == l2_x or l2_y == r2_y:\n",
        "  print(\"Don't Overlap\")\n",
        "  \n",
        "# If one rectangle is on left side of other\n",
        "elif l1_x > r2_x or l2_x > r1_x:\n",
        "  print(\"Don't Overlap\")\n",
        "\n",
        "# If one rectangle is above other\n",
        "elif r1_y > l2_y or r2_y > l1_y:\n",
        "  print(\"Don't Overlap\")\n",
        "else:\n",
        "  print(\"Overlap\")"
      ]
    },
    {
      "cell_type": "code",
      "execution_count": null,
      "metadata": {},
      "outputs": [],
      "source": []
    }
  ],
  "metadata": {
    "colab": {
      "provenance": []
    },
    "kernelspec": {
      "display_name": "Python 3",
      "name": "python3"
    },
    "language_info": {
      "codemirror_mode": {
        "name": "ipython",
        "version": 3
      },
      "file_extension": ".py",
      "mimetype": "text/x-python",
      "name": "python",
      "nbconvert_exporter": "python",
      "pygments_lexer": "ipython3",
      "version": "3.11.0"
    }
  },
  "nbformat": 4,
  "nbformat_minor": 0
}
