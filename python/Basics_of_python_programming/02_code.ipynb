{
 "cells": [
  {
   "cell_type": "markdown",
   "metadata": {},
   "source": [
    "## OPERATORS IN PYTHON"
   ]
  },
  {
   "cell_type": "markdown",
   "metadata": {},
   "source": [
    "### Arithmetic Operators"
   ]
  },
  {
   "cell_type": "code",
   "execution_count": 5,
   "metadata": {},
   "outputs": [
    {
     "name": "stdout",
     "output_type": "stream",
     "text": [
      "30\n",
      "-10\n",
      "200\n",
      "0.5\n",
      "2\n",
      "1\n",
      "25\n"
     ]
    }
   ],
   "source": [
    "print(10+20)\n",
    "print(10-20)\n",
    "print(10*20)\n",
    "print(10/20)\n",
    "#integer division-converts the quotient to integer\n",
    "print(5//2)\n",
    "#modulus operator\n",
    "print(5%2)\n",
    "#power-of operator\n",
    "print(5**2)"
   ]
  },
  {
   "cell_type": "markdown",
   "metadata": {},
   "source": [
    "### Relational Operators"
   ]
  },
  {
   "cell_type": "code",
   "execution_count": 7,
   "metadata": {},
   "outputs": [
    {
     "name": "stdout",
     "output_type": "stream",
     "text": [
      "False\n",
      "True\n",
      "True\n",
      "False\n",
      "True\n"
     ]
    }
   ],
   "source": [
    "print(4>5)\n",
    "print(4<5)\n",
    "print(4<=5)\n",
    "print(4==5)\n",
    "print(4!=5)\n"
   ]
  },
  {
   "cell_type": "markdown",
   "metadata": {},
   "source": [
    "### Logical Operators"
   ]
  },
  {
   "cell_type": "code",
   "execution_count": 9,
   "metadata": {},
   "outputs": [
    {
     "name": "stdout",
     "output_type": "stream",
     "text": [
      "0\n",
      "1\n",
      "False\n"
     ]
    }
   ],
   "source": [
    "print(1 and 0)\n",
    "print(1 or 0)\n",
    "print(not 1)"
   ]
  },
  {
   "cell_type": "markdown",
   "metadata": {},
   "source": [
    "### Bitwise Operators\n",
    "    -operates on binary values"
   ]
  },
  {
   "cell_type": "code",
   "execution_count": 14,
   "metadata": {},
   "outputs": [
    {
     "name": "stdout",
     "output_type": "stream",
     "text": [
      "2\n",
      "3\n",
      "1\n",
      "-4\n"
     ]
    }
   ],
   "source": [
    "#bitwise and\n",
    "print(2 & 3)\n",
    "# 010 & 011 =>010=>2\n",
    "\n",
    "#bitwise or operator\n",
    "print(2 | 3 )\n",
    "\n",
    "#bitwise xor\n",
    "print(2 ^ 3) \n",
    "#if both same=0 ,if different =1\n",
    "\n",
    "#bitwise not\n",
    "print(~3) #~(011)=>100=4\n",
    "#bitwise left and right shift->shifting the bits"
   ]
  },
  {
   "cell_type": "markdown",
   "metadata": {},
   "source": [
    "### Assignment operators"
   ]
  },
  {
   "cell_type": "code",
   "execution_count": null,
   "metadata": {},
   "outputs": [],
   "source": [
    "#assigning values to operators\n",
    "a=4\n",
    "# a=a%2\n",
    "#a=a+2 etc\n"
   ]
  },
  {
   "cell_type": "markdown",
   "metadata": {},
   "source": [
    "### Membership operators"
   ]
  },
  {
   "cell_type": "markdown",
   "metadata": {},
   "source": [
    "-two operators **in,not in**"
   ]
  },
  {
   "cell_type": "code",
   "execution_count": 15,
   "metadata": {},
   "outputs": [
    {
     "name": "stdout",
     "output_type": "stream",
     "text": [
      "True\n"
     ]
    }
   ],
   "source": [
    "print('D' in 'Delhi')"
   ]
  },
  {
   "cell_type": "code",
   "execution_count": 16,
   "metadata": {},
   "outputs": [
    {
     "name": "stdout",
     "output_type": "stream",
     "text": [
      "False\n"
     ]
    }
   ],
   "source": [
    "print('D'  not in 'Delhi')"
   ]
  },
  {
   "cell_type": "code",
   "execution_count": 17,
   "metadata": {},
   "outputs": [
    {
     "name": "stdout",
     "output_type": "stream",
     "text": [
      "False\n"
     ]
    }
   ],
   "source": [
    "print(1 in [2,3,4,5])"
   ]
  },
  {
   "cell_type": "code",
   "execution_count": 19,
   "metadata": {},
   "outputs": [
    {
     "name": "stdout",
     "output_type": "stream",
     "text": [
      "10\n"
     ]
    }
   ],
   "source": [
    "#eg using operators\n",
    "number=int(input(\"enter a 3 digit number\"))\n",
    "a=number%10\n",
    "number=number//10\n",
    "b=number%10\n",
    "number=number//10\n",
    "c=number%10\n",
    "print(a+b+c)\n"
   ]
  },
  {
   "cell_type": "markdown",
   "metadata": {},
   "source": [
    "# Conditional Statemnts"
   ]
  },
  {
   "cell_type": "markdown",
   "metadata": {},
   "source": [
    "### if-else in python"
   ]
  },
  {
   "cell_type": "code",
   "execution_count": 21,
   "metadata": {},
   "outputs": [
    {
     "name": "stdout",
     "output_type": "stream",
     "text": [
      "denied\n"
     ]
    }
   ],
   "source": [
    "\n",
    "#email=1@gmail.com\n",
    "#pass=123\n",
    "email=input('input email')\n",
    "passw=input('input password')\n",
    "if email=='1@gmail.com' and passw=='1234':\n",
    "    print(\"Welcome\")\n",
    "else:\n",
    "    print(\"denied\")\n"
   ]
  },
  {
   "cell_type": "markdown",
   "metadata": {},
   "source": [
    "### if-elif in python"
   ]
  },
  {
   "cell_type": "code",
   "execution_count": 25,
   "metadata": {},
   "outputs": [
    {
     "name": "stdout",
     "output_type": "stream",
     "text": [
      "Incorrect Password\n",
      "aapse na hopayega!!\n"
     ]
    }
   ],
   "source": [
    "email=input('input email')\n",
    "passw=input('input password')\n",
    "if email=='1@gmail.com' and passw=='1234':\n",
    "    print(\"Welcome\")\n",
    "elif email=='1@gmail.com' and passw!='1234':\n",
    "    print('Incorrect Password')\n",
    "    passw=input('enter password again')\n",
    "    if passw=='1234':\n",
    "        print('Welcome')\n",
    "    else:\n",
    "        print('aapse na hopayega!!')\n",
    "else:\n",
    "    print(\"denied\")\n"
   ]
  },
  {
   "cell_type": "markdown",
   "metadata": {},
   "source": [
    "# Modules in Python"
   ]
  },
  {
   "cell_type": "markdown",
   "metadata": {},
   "source": [
    "**module is a  library of built in functions for code reusibility:**\n",
    "\n",
    "    - math.\n",
    "\n",
    "    - keywords\n",
    "\n",
    "    - random\n",
    "\n",
    "    - datetime\n",
    "    \n",
    "    - numpy\n"
   ]
  },
  {
   "cell_type": "code",
   "execution_count": 27,
   "metadata": {},
   "outputs": [
    {
     "name": "stdout",
     "output_type": "stream",
     "text": [
      "\n",
      "Please wait a moment while I gather a list of all available modules...\n",
      "\n",
      "test_sqlite3: testing with version '2.6.0', sqlite_version '3.38.4'\n",
      "WARNING:tensorflow:From c:\\Users\\moham\\AppData\\Local\\Programs\\Python\\Python311\\Lib\\site-packages\\keras\\src\\losses.py:2976: The name tf.losses.sparse_softmax_cross_entropy is deprecated. Please use tf.compat.v1.losses.sparse_softmax_cross_entropy instead.\n",
      "\n",
      "WARNING:tensorflow:From c:\\Users\\moham\\AppData\\Local\\Programs\\Python\\Python311\\Lib\\site-packages\\tensorflow_estimator\\python\\estimator\\util.py:74: The name tf.train.SessionRunHook is deprecated. Please use tf.estimator.SessionRunHook instead.\n",
      "\n",
      "IPython             codecs              markdown_it         soupsieve\n",
      "PIL                 codeop              markupsafe          soxr\n",
      "__future__          collections         marshal             sqlalchemy\n",
      "__hello__           colorama            math                sqlite3\n",
      "__phello__          colorsys            matplotlib          sqlparse\n",
      "_abc                comm                matplotlib_inline   sqltrie\n",
      "_aix_support        commctrl            mdurl               sre_compile\n",
      "_argon2_cffi_bindings compileall          mimetypes           sre_constants\n",
      "_ast                concurrent          mistune             sre_parse\n",
      "_asyncio            configobj           ml_dtypes           ssl\n",
      "_bisect             configparser        mlflow              sspi\n",
      "_blake2             contextlib          mmap                sspicon\n",
      "_bootsubprocess     contextvars         mmapfile            stack_data\n",
      "_bz2                contourpy           mmsystem            starlette\n",
      "_cffi_backend       cookiecutter        modulefinder        start_pythonwin\n",
      "_codecs             copy                mpl_toolkits        stat\n",
      "_codecs_cn          copyreg             msgpack             statistics\n",
      "_codecs_hk          crypt               msilib              statsmodels\n",
      "_codecs_iso2022     cryptography        msvcrt              streamlit\n",
      "_codecs_jp          csv                 multidict           string\n",
      "_codecs_kr          ctypes              multiprocessing     stringprep\n",
      "_codecs_tw          curses              namex               struct\n",
      "_collections        cv2                 nbclient            subprocess\n",
      "_collections_abc    cycler              nbconvert           sunau\n",
      "_compat_pickle      databricks_cli      nbformat            symtable\n",
      "_compression        dataclasses         nest_asyncio        sys\n",
      "_contextvars        datetime            netbios             sysconfig\n",
      "_csv                dateutil            netrc               tabnanny\n",
      "_ctypes             dbi                 networkx            tabulate\n",
      "_ctypes_test        dbm                 nntplib             tarfile\n",
      "_datetime           dde                 notebook            telnetlib\n",
      "_decimal            debugpy             notebook_shim       tempfile\n",
      "_distutils_hack     decimal             nt                  tenacity\n",
      "_elementtree        decorator           ntpath              tensorboard\n",
      "_functools          defusedxml          ntsecuritycon       tensorboard_data_server\n",
      "_hashlib            dictdiffer          nturl2path          tensorflow\n",
      "_heapq              difflib             numba               tensorflow_estimator\n",
      "_imp                dis                 numbers             tensorflow_io_gcs_filesystem\n",
      "_io                 diskcache           numpy               termcolor\n",
      "_json               distro              oauthlib            terminado\n",
      "_locale             distutils           odbc                test\n",
      "_lsprof             docker              omegaconf           text_unidecode\n",
      "_lzma               doctest             opcode              texttable\n",
      "_markupbase         dpath               openpyxl            textwrap\n",
      "_md5                dulwich             operator            this\n",
      "_msi                dvc                 opt_einsum          threading\n",
      "_multibytecodec     dvc_data            optparse            threadpoolctl\n",
      "_multiprocessing    dvc_http            optree              time\n",
      "_opcode             dvc_objects         orjson              timeit\n",
      "_operator           dvc_render          os                  timer\n",
      "_osx_support        dvc_studio_client   overrides           tinycss2\n",
      "_overlapped         dvc_task            packaging           tkinter\n",
      "_pickle             email               pandas              tlz\n",
      "_py_abc             encodings           pandocfilters       token\n",
      "_pydecimal          ensure              parso               tokenize\n",
      "_pyio               ensurepip           past                toml\n",
      "_queue              entrypoints         pasta               tomlkit\n",
      "_random             enum                pathlib             tomllib\n",
      "_ruamel_yaml        errno               pathspec            toolz\n",
      "_sha1               et_xmlfile          patsy               tornado\n",
      "_sha256             executing           pdb                 tqdm\n",
      "_sha3               fastapi             perfmon             trace\n",
      "_sha512             fastjsonschema      pickle              traceback\n",
      "_signal             faulthandler        pickletools         tracemalloc\n",
      "_sitebuiltins       filecmp             pip                 traitlets\n",
      "_socket             fileinput           pipes               tty\n",
      "_soundfile          filelock            pkg_resources       turtle\n",
      "_soundfile_data     flask               pkgutil             turtledemo\n",
      "_sqlite3            flask_cors          platform            typer\n",
      "_sre                flatbuffers         platformdirs        types\n",
      "_ssl                flatten_dict        plistlib            typing\n",
      "_stat               fnmatch             pooch               typing_extensions\n",
      "_statistics         fontTools           poplib              tzdata\n",
      "_string             fqdn                posixpath           unicodedata\n",
      "_strptime           fractions           pprint              unittest\n",
      "_struct             frozenlist          profile             uri_template\n",
      "_symtable           fsspec              prometheus_client   urllib\n",
      "_testbuffer         ftplib              prompt_toolkit      urllib3\n",
      "_testcapi           functools           pstats              uu\n",
      "_testconsole        funcy               psutil              uuid\n",
      "_testimportmultiple future              pty                 uvicorn\n",
      "_testinternalcapi   gast                public              validate\n",
      "_testmultiphase     gc                  pure_eval           venv\n",
      "_thread             gdown               py4j                vine\n",
      "_threading_local    genericpath         py_compile          voluptuous\n",
      "_tkinter            getopt              pyarrow             waitress\n",
      "_tokenize           getpass             pyasn1              warnings\n",
      "_tracemalloc        gettext             pyasn1_modules      watchdog\n",
      "_typing             git                 pyclbr              wave\n",
      "_uuid               gitdb               pycparser           wcwidth\n",
      "_warnings           glob                pydantic            weakref\n",
      "_weakref            google_auth_oauthlib pydantic_core       webbrowser\n",
      "_weakrefset         grandalf            pydeck              webcolors\n",
      "_win32sysloader     graphlib            pydevd_plugins      webencodings\n",
      "_winapi             greenlet            pydoc               websocket\n",
      "_winxptheme         grpc                pydoc_data          werkzeug\n",
      "_xxsubinterpreters  gto                 pydot               wheel\n",
      "_yaml               gzip                pyexpat             win2kras\n",
      "_zoneinfo           h11                 pygit2              win32api\n",
      "abc                 h5py                pygments            win32clipboard\n",
      "absl                hashlib             pygtrie             win32com\n",
      "adodbapi            heapq               pylab               win32con\n",
      "afxres              hmac                pylint_plugins      win32console\n",
      "aifc                html                pyparsing           win32cred\n",
      "aiohttp             http                pythoncom           win32crypt\n",
      "aiohttp_retry       httpcore            pythonjsonlogger    win32cryptcon\n",
      "aiosignal           httpx               pytz                win32event\n",
      "alembic             hydra               pywin               win32evtlog\n",
      "altair              hyperopt            pywin32_bootstrap   win32evtlogutil\n",
      "amqp                idlelib             pywin32_testutil    win32file\n",
      "annotated_types     idna                pywintypes          win32gui\n",
      "antigravity         imaplib             querystring_parser  win32gui_struct\n",
      "antlr4              imghdr              queue               win32help\n",
      "anyio               imp                 quopri              win32inet\n",
      "appdirs             importlib           random              win32inetcon\n",
      "argon2              importlib_metadata  rasutil             win32job\n",
      "argparse            inspect             re                  win32lz\n",
      "array               io                  referencing         win32net\n",
      "arrow               ipaddress           regcheck            win32netcon\n",
      "ast                 ipykernel           regutil             win32pdh\n",
      "asttokens           ipykernel_launcher  reprlib             win32pdhquery\n",
      "astunparse          isapi               requests            win32pdhutil\n",
      "async_lru           isoduration         requests_oauthlib   win32pipe\n",
      "asynchat            iterative_telemetry resampy             win32print\n",
      "asyncio             itertools           rfc3339_validator   win32process\n",
      "asyncore            itsdangerous        rfc3986_validator   win32profile\n",
      "asyncssh            jax                 rich                win32ras\n",
      "atexit              jedi                rlcompleter         win32rcparser\n",
      "attr                jinja2              rpds                win32security\n",
      "attrs               jmespath            rsa                 win32service\n",
      "audioop             joblib              runpy               win32serviceutil\n",
      "audioread           json                s3transfer          win32timezone\n",
      "babel               json5               sched               win32trace\n",
      "base64              jsonpointer         scipy               win32traceutil\n",
      "bdb                 jsonschema          scmrepo             win32transaction\n",
      "billiard            jsonschema_specifications seaborn             win32ts\n",
      "binaryornot         jupyter             secrets             win32ui\n",
      "binascii            jupyter_client      select              win32uiole\n",
      "bisect              jupyter_core        selectors           win32verstamp\n",
      "bleach              jupyter_events      semver              win32wnet\n",
      "blinker             jupyter_lsp         send2trash          winerror\n",
      "boto3               jupyter_server      servicemanager      winioctlcon\n",
      "botocore            jupyter_server_terminals setuptools          winnt\n",
      "box                 jupyterlab          shap                winperf\n",
      "bs4                 jupyterlab_pygments shellingham         winpty\n",
      "builtins            jupyterlab_server   shelve              winreg\n",
      "bz2                 jwt                 shlex               winsound\n",
      "cProfile            keras               shortuuid           winxpgui\n",
      "cachetools          keyword             shtab               winxptheme\n",
      "calendar            kiwisolver          shutil              wrapt\n",
      "celery              kombu               signal              wsgiref\n",
      "certifi             lazy_loader         site                xdrlib\n",
      "cffi                lazypredict         six                 xgboost\n",
      "cgi                 lib2to3             sklearn             xml\n",
      "cgitb               libfuturize         slicer              xmlrpc\n",
      "chardet             libpasteurize       slugify             xxsubtype\n",
      "charset_normalizer  librosa             smmap               yaml\n",
      "chunk               lightgbm            smtpd               yarl\n",
      "clang               linecache           smtplib             zipapp\n",
      "click               llvmlite            sndhdr              zipfile\n",
      "click_didyoumean    locale              sniffio             zipimport\n",
      "click_plugins       logging             socket              zipp\n",
      "click_repl          lzma                socketserver        zlib\n",
      "cloudpickle         mailbox             socks               zmq\n",
      "cmath               mailcap             sockshandler        zoneinfo\n",
      "cmd                 mako                sortedcontainers    \n",
      "code                markdown            soundfile           \n",
      "\n",
      "Enter any module name to get more help.  Or, type \"modules spam\" to search\n",
      "for modules whose name or summary contain the string \"spam\".\n",
      "\n"
     ]
    }
   ],
   "source": [
    "help('modules')"
   ]
  },
  {
   "cell_type": "markdown",
   "metadata": {},
   "source": [
    "# Loop Statements"
   ]
  },
  {
   "cell_type": "markdown",
   "metadata": {},
   "source": [
    "### while loop"
   ]
  },
  {
   "cell_type": "code",
   "execution_count": 30,
   "metadata": {},
   "outputs": [
    {
     "name": "stdout",
     "output_type": "stream",
     "text": [
      "5\n",
      "10\n",
      "15\n",
      "20\n",
      "25\n",
      "30\n",
      "35\n",
      "40\n",
      "45\n",
      "50\n"
     ]
    }
   ],
   "source": [
    "i=1\n",
    "while i<11:\n",
    "    print(i*5)\n",
    "    i=i+1\n"
   ]
  },
  {
   "cell_type": "markdown",
   "metadata": {},
   "source": [
    "### for loop"
   ]
  },
  {
   "cell_type": "code",
   "execution_count": 31,
   "metadata": {},
   "outputs": [
    {
     "name": "stdout",
     "output_type": "stream",
     "text": [
      "100\n",
      "200\n",
      "300\n"
     ]
    }
   ],
   "source": [
    "for i in [10,20,30]:\n",
    "    print(i*10)"
   ]
  },
  {
   "cell_type": "code",
   "execution_count": 1,
   "metadata": {},
   "outputs": [
    {
     "name": "stdout",
     "output_type": "stream",
     "text": [
      "1\n",
      "2\n",
      "3\n",
      "4\n",
      "5\n",
      "6\n",
      "7\n",
      "8\n",
      "9\n"
     ]
    }
   ],
   "source": [
    "for i in range(1,10):#10 is excluded\n",
    "    print(i)"
   ]
  },
  {
   "cell_type": "code",
   "execution_count": 2,
   "metadata": {},
   "outputs": [
    {
     "name": "stdout",
     "output_type": "stream",
     "text": [
      "1\n",
      "4\n",
      "7\n",
      "10\n",
      "13\n",
      "16\n",
      "19\n",
      "22\n",
      "25\n",
      "28\n",
      "31\n",
      "34\n",
      "37\n"
     ]
    }
   ],
   "source": [
    "for i in range(1,40,3): #3 will be the step\n",
    "    print(i)"
   ]
  },
  {
   "cell_type": "code",
   "execution_count": 3,
   "metadata": {},
   "outputs": [
    {
     "name": "stdout",
     "output_type": "stream",
     "text": [
      "20\n",
      "19\n",
      "18\n",
      "17\n",
      "16\n",
      "15\n",
      "14\n",
      "13\n",
      "12\n",
      "11\n",
      "10\n",
      "9\n",
      "8\n",
      "7\n",
      "6\n",
      "5\n",
      "4\n",
      "3\n",
      "2\n",
      "1\n"
     ]
    }
   ],
   "source": [
    "for i in range(20,0,-1): #1 step,0 excluded\n",
    "    print(i)"
   ]
  },
  {
   "cell_type": "markdown",
   "metadata": {},
   "source": [
    "### Nested Loops"
   ]
  },
  {
   "cell_type": "code",
   "execution_count": 4,
   "metadata": {},
   "outputs": [
    {
     "name": "stdout",
     "output_type": "stream",
     "text": [
      "1 1\n",
      "1 2\n",
      "1 3\n",
      "1 4\n",
      "2 1\n",
      "2 2\n",
      "2 3\n",
      "2 4\n",
      "3 1\n",
      "3 2\n",
      "3 3\n",
      "3 4\n",
      "4 1\n",
      "4 2\n",
      "4 3\n",
      "4 4\n"
     ]
    }
   ],
   "source": [
    "for i in range(1,5):\n",
    "  for j in range(1,5):\n",
    "    print(i,j)"
   ]
  },
  {
   "cell_type": "markdown",
   "metadata": {},
   "source": [
    "**Patterns**"
   ]
  },
  {
   "cell_type": "code",
   "execution_count": 8,
   "metadata": {},
   "outputs": [
    {
     "name": "stdout",
     "output_type": "stream",
     "text": [
      "*\n",
      "**\n",
      "***\n",
      "****\n",
      "*****\n"
     ]
    }
   ],
   "source": [
    "for i in range(1,6):\n",
    "    for j in range(1,i+1):\n",
    "        print('*',end='')\n",
    "    print()#using the print function to change the line"
   ]
  },
  {
   "cell_type": "code",
   "execution_count": 4,
   "metadata": {},
   "outputs": [
    {
     "name": "stdout",
     "output_type": "stream",
     "text": [
      "1\n",
      "121\n",
      "12321\n",
      "1234321\n"
     ]
    }
   ],
   "source": [
    "for i in range(1,5):\n",
    "    for j in range(1,i+1):\n",
    "        print(j,end='')\n",
    "    for k in range(i-1,0,-1):\n",
    "        print(k,end='')\n",
    "    print()"
   ]
  },
  {
   "cell_type": "markdown",
   "metadata": {},
   "source": [
    "### Loop Control statements"
   ]
  },
  {
   "cell_type": "markdown",
   "metadata": {},
   "source": [
    "**Loop Control Statements:**\n",
    "\n",
    "    - Break\n",
    "    - Continue\n",
    "    - Pass"
   ]
  },
  {
   "cell_type": "code",
   "execution_count": 7,
   "metadata": {},
   "outputs": [
    {
     "name": "stdout",
     "output_type": "stream",
     "text": [
      "1\n",
      "2\n",
      "3\n",
      "4\n",
      "5\n",
      "6\n",
      "7\n",
      "8\n",
      "9\n",
      "10\n"
     ]
    }
   ],
   "source": [
    "#break-if a condition is met we can break that loop that is execution will stop---used in linear searching\n",
    "for i in range(1,20):\n",
    "    if i==11:\n",
    "        break\n",
    "    else:\n",
    "        print(i)"
   ]
  },
  {
   "cell_type": "code",
   "execution_count": 8,
   "metadata": {},
   "outputs": [
    {
     "name": "stdout",
     "output_type": "stream",
     "text": [
      "1\n",
      "2\n",
      "3\n",
      "4\n",
      "5\n",
      "6\n",
      "8\n",
      "9\n"
     ]
    }
   ],
   "source": [
    "#continue Statemnet: if a condtion is met that iteration will be skipped..eg..in e-commerce website if a product is not stock skip it\n",
    "for i in range(1,10):\n",
    "    if i==7:\n",
    "        continue\n",
    "    else:\n",
    "        print(i)"
   ]
  },
  {
   "cell_type": "code",
   "execution_count": 9,
   "metadata": {},
   "outputs": [],
   "source": [
    "# pass:mechanism to avoid error while execution..usually used to code later\n",
    "def pass_func():\n",
    "    pass\n",
    "for i in range(10,20):\n",
    "    pass"
   ]
  },
  {
   "cell_type": "code",
   "execution_count": null,
   "metadata": {},
   "outputs": [],
   "source": []
  }
 ],
 "metadata": {
  "kernelspec": {
   "display_name": "Python 3",
   "language": "python",
   "name": "python3"
  },
  "language_info": {
   "codemirror_mode": {
    "name": "ipython",
    "version": 3
   },
   "file_extension": ".py",
   "mimetype": "text/x-python",
   "name": "python",
   "nbconvert_exporter": "python",
   "pygments_lexer": "ipython3",
   "version": "3.11.0"
  }
 },
 "nbformat": 4,
 "nbformat_minor": 2
}
