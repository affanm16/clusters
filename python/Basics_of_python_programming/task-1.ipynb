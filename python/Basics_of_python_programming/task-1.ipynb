{
  "cells": [
    {
      "cell_type": "markdown",
      "metadata": {
        "id": "A05OG15VqOPF"
      },
      "source": [
        "# Task-1\n",
        "Solve these questions own your own and try to test yourself what you have learned in the session.\n",
        "\n",
        "Happy Learning!"
      ]
    },
    {
      "cell_type": "markdown",
      "metadata": {
        "id": "2doIXf8bqe9_"
      },
      "source": [
        "### Q1 :- Print the given strings as per stated format.\n",
        "\n",
        "**Given strings**:\n",
        "```\n",
        "\"Data\" \"Science\" \"Mentorship\" \"Program\"\n",
        "\"By\" \"CampusX\"\n",
        "```\n",
        "**Output**:\n",
        "```\n",
        "Data-Science-Mentorship-Program-started-By-CampusX\n",
        "```\n",
        "\n",
        "Concept- [Seperator and End]"
      ]
    },
    {
      "cell_type": "markdown",
      "metadata": {},
      "source": [
        "**Solution**"
      ]
    },
    {
      "cell_type": "code",
      "execution_count": 23,
      "metadata": {},
      "outputs": [
        {
          "name": "stdout",
          "output_type": "stream",
          "text": [
            "Data-Science-Mentorship-Program-By-CampusX\n"
          ]
        }
      ],
      "source": [
        "print(\"Data\" ,\"Science\", \"Mentorship\" ,\"Program\",sep='-',end=\"-\")\n",
        "print(\"By\" ,\"CampusX\",sep=\"-\")"
      ]
    },
    {
      "cell_type": "markdown",
      "metadata": {
        "id": "1KUpN7ZTrC3_"
      },
      "source": [
        "### Q2:- Write a program that will convert celsius value to fahrenheit."
      ]
    },
    {
      "cell_type": "code",
      "execution_count": 25,
      "metadata": {
        "id": "yxKYhYQiqWfj"
      },
      "outputs": [
        {
          "name": "stdout",
          "output_type": "stream",
          "text": [
            "91.4\n"
          ]
        }
      ],
      "source": [
        "#f=c*(9/5)+32\n",
        "c=float(input(\"input  celsius value\"))\n",
        "f=c*(9/5)+32\n",
        "print(f)"
      ]
    },
    {
      "cell_type": "markdown",
      "metadata": {
        "id": "RLrOBBJurLB2"
      },
      "source": [
        "### Q3:- Take 2 numbers as input from the user.Write a program to swap the numbers without using any special python syntax."
      ]
    },
    {
      "cell_type": "code",
      "execution_count": 26,
      "metadata": {
        "id": "yPn7if0TrJ4F"
      },
      "outputs": [
        {
          "name": "stdout",
          "output_type": "stream",
          "text": [
            "10 30\n",
            "30 10\n"
          ]
        }
      ],
      "source": [
        "num1=int(input(\"input value-1\"))\n",
        "num2=int(input(\"input value 2\"))\n",
        "print(num1,num2)\n",
        "t=num1\n",
        "num1=num2\n",
        "num2=t\n",
        "print(num1,num2)"
      ]
    },
    {
      "cell_type": "markdown",
      "metadata": {
        "id": "waLCP1bjr7ML"
      },
      "source": [
        "### Q4:- Write a program to find the euclidean distance between two coordinates.Take both the coordinates from the user as input."
      ]
    },
    {
      "cell_type": "code",
      "execution_count": 2,
      "metadata": {
        "id": "Pl1Sv-xnrxnH"
      },
      "outputs": [
        {
          "name": "stdout",
          "output_type": "stream",
          "text": [
            "1.4142135623730951\n"
          ]
        }
      ],
      "source": [
        "import math\n",
        "from math import sqrt\n",
        "x1=int(input('input the value for x1'))\n",
        "y1=int(input('input the value for y1'))\n",
        "x2=int(input('input the value for x2'))\n",
        "y2=int(input('input the value for y2'))\n",
        "distance=sqrt((x2-x1)**2 + (y2-y1)**2)\n",
        "print(distance)"
      ]
    },
    {
      "cell_type": "markdown",
      "metadata": {
        "id": "VLrhg-FRsHjR"
      },
      "source": [
        "### Q5:- Write a program to find the simple interest when the value of principle,rate of interest and time period is provided by the user.\n"
      ]
    },
    {
      "cell_type": "code",
      "execution_count": 6,
      "metadata": {
        "id": "s40DlReZsTmY"
      },
      "outputs": [
        {
          "name": "stdout",
          "output_type": "stream",
          "text": [
            "simple interest is: 1000.0\n"
          ]
        }
      ],
      "source": [
        "principle=int(input(\"input the principle amount\"))\n",
        "roi=int(input(\"input roi\"))\n",
        "t=int(input(\"input the time period\"))\n",
        "si=(principle*t*roi)/100\n",
        "print(\"simple interest is:\",si)"
      ]
    },
    {
      "cell_type": "markdown",
      "metadata": {
        "id": "LMy0BTUktYKa"
      },
      "source": [
        "### Q6:- Write a program that will tell the number of dogs and chicken are there when the user will provide the value of total heads and legs.\n",
        "\n",
        "For example:\n",
        "Input:\n",
        "heads -> 4\n",
        "legs -> 12\n",
        "<br>\n",
        "\n",
        "Output:\n",
        "\n",
        "dogs -> 2\n",
        "chicken -> 2\n",
        "\n",
        "\n",
        "\n"
      ]
    },
    {
      "cell_type": "code",
      "execution_count": 10,
      "metadata": {
        "id": "XSBvJoA4tXaG"
      },
      "outputs": [
        {
          "data": {
            "text/plain": [
              "(2, 2)"
            ]
          },
          "execution_count": 10,
          "metadata": {},
          "output_type": "execute_result"
        }
      ],
      "source": [
        "total_heads=int(input(\"enter the number of heads\"))\n",
        "total_legs=int(input(\"input number of legs\"))\n",
        "# 2c + 2d =2*total_heads ->(1)\n",
        "# 2c+4d=total_legs ->(2)\n",
        "#(1)-(2)=> 0-2d=2*total_heads-total_legs \n",
        "# d=(2*total_heads-total_legs)/-2\n",
        "#c=total_heads-d\n",
        "def cal_c_d(total_heads,total_legs):\n",
        "    d=(2*total_heads-total_legs)/-2\n",
        "    c=total_heads-d\n",
        "    return int(d),int(c)\n",
        "cal_c_d(total_heads,total_legs)\n"
      ]
    },
    {
      "cell_type": "markdown",
      "metadata": {
        "id": "gJ7C5kZYt4BP"
      },
      "source": [
        "### Q7:- Write a program to find the sum of squares of first n natural numbers where n will be provided by the user."
      ]
    },
    {
      "cell_type": "code",
      "execution_count": 12,
      "metadata": {
        "id": "_tHsmEHzt2nX"
      },
      "outputs": [
        {
          "name": "stdout",
          "output_type": "stream",
          "text": [
            "14\n"
          ]
        }
      ],
      "source": [
        "n=int(input(\"input the value of n\"))\n",
        "sum=0\n",
        "for i in range(1,n+1):\n",
        "    sum=sum+i**2\n",
        "print(sum)"
      ]
    },
    {
      "cell_type": "markdown",
      "metadata": {
        "id": "FHrMM7g-yG1h"
      },
      "source": [
        "### Q8:- Given the first 2 terms of an Arithmetic Series.Find the Nth term of the series. Assume all inputs are provided by the user."
      ]
    },
    {
      "cell_type": "code",
      "execution_count": 16,
      "metadata": {
        "id": "go4_kmZmyVSx"
      },
      "outputs": [
        {
          "data": {
            "text/plain": [
              "3"
            ]
          },
          "execution_count": 16,
          "metadata": {},
          "output_type": "execute_result"
        }
      ],
      "source": [
        "# n=a1+(n−1)⋅d\n",
        "a1=int(input(\"enter the first term of arithmetic series\"))\n",
        "a2=int(input(\"enter the second term of arithmetic series\"))\n",
        "nth=int(input(\"input the term number\"))\n",
        "def nth_term(a1,a2,nth):\n",
        "    d=a2-a1\n",
        "    n=a1+(nth-1)*d\n",
        "    return n\n",
        "nth_term(a1,a2,nth)\n",
        "\n"
      ]
    },
    {
      "cell_type": "markdown",
      "metadata": {
        "id": "QgyRX_es1oum"
      },
      "source": [
        "### Q9:- Given 2 fractions, find the sum of those 2 fractions.Take the numerator and denominator values of the fractions from the user."
      ]
    },
    {
      "cell_type": "code",
      "execution_count": 19,
      "metadata": {
        "id": "X05xqFS1yW16"
      },
      "outputs": [
        {
          "name": "stdout",
          "output_type": "stream",
          "text": [
            "10.0\n"
          ]
        }
      ],
      "source": [
        "numerator1=int(input(\"enter the numerator of fraction1\"))\n",
        "denominator1=int(input(\"enter the denominator of fraction1\"))\n",
        "numerator2=int(input(\"enter the numerator of fraction2\"))\n",
        "denominator2=int(input(\"enter the denomiantor of fraction2\"))\n",
        "sum=(numerator1/denominator1) + (numerator2/denominator2)\n",
        "print(sum)"
      ]
    },
    {
      "cell_type": "markdown",
      "metadata": {
        "id": "eaql38ln13u7"
      },
      "source": [
        "### Q10:- Given the height, width and breadth of a milk tank, you have to find out how many glasses of milk can be obtained? Assume all the inputs are provided by the user.\n",
        "\n",
        "\n",
        "\n",
        "Input:<br>\n",
        "Dimensions of the milk tank<br>\n",
        "H = 20cm, L = 20cm, B = 20cm\n",
        "<br><br>\n",
        "Dimensions of the glass<br>\n",
        "h = 3cm, r = 1cm"
      ]
    },
    {
      "cell_type": "code",
      "execution_count": 21,
      "metadata": {
        "id": "FePZqno74eWv"
      },
      "outputs": [
        {
          "name": "stdout",
          "output_type": "stream",
          "text": [
            "848\n"
          ]
        }
      ],
      "source": [
        "from math import pi\n",
        "#V=π*r^2*h\n",
        "#dimensions of tank\n",
        "H = 20\n",
        "L = 20\n",
        "B = 20\n",
        "volume_tank=H*L*B\n",
        "#dimensions of glass\n",
        "h = 3\n",
        "r = 1\n",
        "volume_glass=pi*r**2*h\n",
        "n_glasses=int(volume_tank/volume_glass)\n",
        "print(n_glasses)\n"
      ]
    },
    {
      "cell_type": "code",
      "execution_count": null,
      "metadata": {},
      "outputs": [],
      "source": []
    }
  ],
  "metadata": {
    "colab": {
      "provenance": []
    },
    "kernelspec": {
      "display_name": "Python 3",
      "name": "python3"
    },
    "language_info": {
      "codemirror_mode": {
        "name": "ipython",
        "version": 3
      },
      "file_extension": ".py",
      "mimetype": "text/x-python",
      "name": "python",
      "nbconvert_exporter": "python",
      "pygments_lexer": "ipython3",
      "version": "3.11.0"
    }
  },
  "nbformat": 4,
  "nbformat_minor": 0
}
