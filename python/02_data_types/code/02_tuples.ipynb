{
  "cells": [
    {
      "cell_type": "markdown",
      "metadata": {
        "id": "5hYIljKil3RU"
      },
      "source": [
        "# Tuples\n",
        "\n",
        "A tuple in Python is similar to a list. The difference between the two is that we cannot change the elements of a tuple once it is assigned whereas we can change the elements of a list.\n",
        "\n",
        "In short, a tuple is an immutable list. A tuple can not be changed in any way once it is created.\n",
        "\n",
        "Characterstics\n",
        "\n",
        "- Ordered\n",
        "- Unchangeble\n",
        "- Allows duplicate"
      ]
    },
    {
      "cell_type": "markdown",
      "metadata": {
        "id": "CFpO1Ejhn1_h"
      },
      "source": [
        "### Plan of attack\n",
        "\n",
        "- Creating a Tuple\n",
        "- Accessing items\n",
        "- Editing items\n",
        "- Adding items\n",
        "- Deleting items\n",
        "- Operations on Tuples\n",
        "- Tuple Functions"
      ]
    },
    {
      "cell_type": "markdown",
      "metadata": {
        "id": "G_V0x7xzl7fL"
      },
      "source": [
        "### Creating Tuples"
      ]
    },
    {
      "cell_type": "code",
      "execution_count": 1,
      "metadata": {
        "colab": {
          "base_uri": "https://localhost:8080/"
        },
        "id": "o5QfMirSl4-q",
        "outputId": "3035d546-7757-46a8-96d9-21ef3a61ef8f"
      },
      "outputs": [
        {
          "name": "stdout",
          "output_type": "stream",
          "text": [
            "()\n",
            "('hello',)\n",
            "<class 'tuple'>\n",
            "(1, 2, 3, 4)\n",
            "(1, 2.5, True, [1, 2, 3])\n",
            "(1, 2, 3, (4, 5))\n",
            "('h', 'e', 'l', 'l', 'o')\n"
          ]
        }
      ],
      "source": [
        "# empty\n",
        "t1 = ()\n",
        "print(t1)\n",
        "# create a tuple with a single item\n",
        "t2 = ('hello',)#add a comma is single item  to make it tuple\n",
        "print(t2)\n",
        "print(type(t2))\n",
        "# homo\n",
        "t3 = (1,2,3,4)\n",
        "print(t3)\n",
        "# hetro\n",
        "t4 = (1,2.5,True,[1,2,3])\n",
        "print(t4)\n",
        "# tuple\n",
        "t5 = (1,2,3,(4,5))\n",
        "print(t5)\n",
        "# using type conversion\n",
        "t6 = tuple('hello')\n",
        "print(t6)"
      ]
    },
    {
      "cell_type": "markdown",
      "metadata": {
        "id": "hx9kH3ijmR98"
      },
      "source": [
        "### Accessing Items\n",
        "\n",
        "- Indexing\n",
        "- Slicing"
      ]
    },
    {
      "cell_type": "code",
      "execution_count": 3,
      "metadata": {
        "colab": {
          "base_uri": "https://localhost:8080/"
        },
        "id": "rGHN05iVmWNO",
        "outputId": "1a50da8d-64e3-49b6-8627-84f555a6f558"
      },
      "outputs": [
        {
          "name": "stdout",
          "output_type": "stream",
          "text": [
            "(1, 2, 3, 4)\n",
            "1\n",
            "4\n"
          ]
        }
      ],
      "source": [
        "t3=(1,2,3,4)\n",
        "print(t3)\n",
        "print(t3[0])\n",
        "print(t3[-1])"
      ]
    },
    {
      "cell_type": "code",
      "execution_count": 4,
      "metadata": {
        "colab": {
          "base_uri": "https://localhost:8080/"
        },
        "id": "PXfVX93qvRGC",
        "outputId": "3b5af2d6-c132-4e4d-fc1f-6ed775255409"
      },
      "outputs": [
        {
          "data": {
            "text/plain": [
              "5"
            ]
          },
          "execution_count": 4,
          "metadata": {},
          "output_type": "execute_result"
        }
      ],
      "source": [
        "t5 = (1,2,3,(4,5))\n",
        "t5[-1][1]"
      ]
    },
    {
      "cell_type": "code",
      "execution_count": 8,
      "metadata": {},
      "outputs": [
        {
          "data": {
            "text/plain": [
              "(1, 2)"
            ]
          },
          "execution_count": 8,
          "metadata": {},
          "output_type": "execute_result"
        }
      ],
      "source": [
        "t5[0:2]"
      ]
    },
    {
      "cell_type": "markdown",
      "metadata": {
        "id": "oaLJvXrBmW63"
      },
      "source": [
        "### Editing items"
      ]
    },
    {
      "cell_type": "code",
      "execution_count": 5,
      "metadata": {
        "colab": {
          "base_uri": "https://localhost:8080/",
          "height": 205
        },
        "id": "HyRQxHHNmcw8",
        "outputId": "0b88c8a6-7dcf-4048-9aaa-079ef656fc2a"
      },
      "outputs": [
        {
          "name": "stdout",
          "output_type": "stream",
          "text": [
            "(1, 2, 3, 4)\n"
          ]
        },
        {
          "ename": "TypeError",
          "evalue": "'tuple' object does not support item assignment",
          "output_type": "error",
          "traceback": [
            "\u001b[1;31m---------------------------------------------------------------------------\u001b[0m",
            "\u001b[1;31mTypeError\u001b[0m                                 Traceback (most recent call last)",
            "Cell \u001b[1;32mIn[5], line 2\u001b[0m\n\u001b[0;32m      1\u001b[0m \u001b[38;5;28mprint\u001b[39m(t3)\n\u001b[1;32m----> 2\u001b[0m \u001b[43mt3\u001b[49m\u001b[43m[\u001b[49m\u001b[38;5;241;43m0\u001b[39;49m\u001b[43m]\u001b[49m \u001b[38;5;241m=\u001b[39m \u001b[38;5;241m100\u001b[39m\n\u001b[0;32m      3\u001b[0m \u001b[38;5;66;03m# immutable just like strings\u001b[39;00m\n",
            "\u001b[1;31mTypeError\u001b[0m: 'tuple' object does not support item assignment"
          ]
        }
      ],
      "source": [
        "print(t3)\n",
        "t3[0] = 100\n",
        "# immutable just like strings"
      ]
    },
    {
      "cell_type": "markdown",
      "metadata": {
        "id": "UQpDLQFtmdbm"
      },
      "source": [
        "### Adding items"
      ]
    },
    {
      "cell_type": "code",
      "execution_count": 6,
      "metadata": {
        "colab": {
          "base_uri": "https://localhost:8080/"
        },
        "id": "bHXYLnNSmezw",
        "outputId": "5c2fa2f4-3159-4f0f-da24-346f7f61b57a"
      },
      "outputs": [
        {
          "name": "stdout",
          "output_type": "stream",
          "text": [
            "(1, 2, 3, 4)\n"
          ]
        }
      ],
      "source": [
        "print(t3)\n",
        "# not possible\n",
        "#no functions for addition"
      ]
    },
    {
      "cell_type": "markdown",
      "metadata": {
        "id": "8YRYCj9vmfl9"
      },
      "source": [
        "### Deleting items"
      ]
    },
    {
      "cell_type": "code",
      "execution_count": 9,
      "metadata": {
        "colab": {
          "base_uri": "https://localhost:8080/",
          "height": 223
        },
        "id": "aYXjESAnmhFk",
        "outputId": "72300167-ce0b-4ceb-8887-a3aad974bdf6"
      },
      "outputs": [
        {
          "name": "stdout",
          "output_type": "stream",
          "text": [
            "(1, 2, 3, 4)\n"
          ]
        },
        {
          "ename": "NameError",
          "evalue": "name 't3' is not defined",
          "output_type": "error",
          "traceback": [
            "\u001b[1;31m---------------------------------------------------------------------------\u001b[0m",
            "\u001b[1;31mNameError\u001b[0m                                 Traceback (most recent call last)",
            "Cell \u001b[1;32mIn[9], line 4\u001b[0m\n\u001b[0;32m      2\u001b[0m \u001b[38;5;28mprint\u001b[39m(t3)\n\u001b[0;32m      3\u001b[0m \u001b[38;5;28;01mdel\u001b[39;00m t3\n\u001b[1;32m----> 4\u001b[0m \u001b[38;5;28mprint\u001b[39m(\u001b[43mt3\u001b[49m)\n",
            "\u001b[1;31mNameError\u001b[0m: name 't3' is not defined"
          ]
        }
      ],
      "source": [
        "#complete tuple can be deleted but an item cannot be deleted\n",
        "print(t3)\n",
        "del t3\n",
        "print(t3)"
      ]
    },
    {
      "cell_type": "code",
      "execution_count": 10,
      "metadata": {
        "colab": {
          "base_uri": "https://localhost:8080/"
        },
        "id": "81NlConQwvpg",
        "outputId": "600720df-946a-42ee-f26b-10b565dc0c18"
      },
      "outputs": [
        {
          "data": {
            "text/plain": [
              "(5, 4, 3)"
            ]
          },
          "execution_count": 10,
          "metadata": {},
          "output_type": "execute_result"
        }
      ],
      "source": [
        "t = (1,2,3,4,5)\n",
        "\n",
        "t[-1:-4:-1]"
      ]
    },
    {
      "cell_type": "code",
      "execution_count": 12,
      "metadata": {
        "colab": {
          "base_uri": "https://localhost:8080/",
          "height": 205
        },
        "id": "uKalrU0swVb6",
        "outputId": "54026801-6f8a-4252-f2a2-a60080a99093"
      },
      "outputs": [
        {
          "name": "stdout",
          "output_type": "stream",
          "text": [
            "(1, 2, 3, (4, 5))\n"
          ]
        },
        {
          "ename": "TypeError",
          "evalue": "'tuple' object doesn't support item deletion",
          "output_type": "error",
          "traceback": [
            "\u001b[1;31m---------------------------------------------------------------------------\u001b[0m",
            "\u001b[1;31mTypeError\u001b[0m                                 Traceback (most recent call last)",
            "Cell \u001b[1;32mIn[12], line 2\u001b[0m\n\u001b[0;32m      1\u001b[0m \u001b[38;5;28mprint\u001b[39m(t5)\n\u001b[1;32m----> 2\u001b[0m \u001b[38;5;28;01mdel\u001b[39;00m \u001b[43mt5\u001b[49m\u001b[43m[\u001b[49m\u001b[38;5;241;43m-\u001b[39;49m\u001b[38;5;241;43m1\u001b[39;49m\u001b[43m]\u001b[49m\u001b[38;5;66;03m#an item cannot be deleted\u001b[39;00m\n",
            "\u001b[1;31mTypeError\u001b[0m: 'tuple' object doesn't support item deletion"
          ]
        }
      ],
      "source": [
        "print(t5)\n",
        "del t5[-1]#an item cannot be deleted"
      ]
    },
    {
      "cell_type": "markdown",
      "metadata": {
        "id": "VhxuX2KXmhs0"
      },
      "source": [
        "### Operations on Tuples"
      ]
    },
    {
      "cell_type": "code",
      "execution_count": 15,
      "metadata": {
        "colab": {
          "base_uri": "https://localhost:8080/"
        },
        "id": "EKUS6wWEmj9o",
        "outputId": "9b1e75c9-8953-462e-c6f8-c29f9573d4df"
      },
      "outputs": [
        {
          "name": "stdout",
          "output_type": "stream",
          "text": [
            "(1, 2, 3, 4, 5, 6, 7, 8)\n",
            "(1, 2, 3, 4, 1, 2, 3, 4, 1, 2, 3, 4)\n",
            "False\n",
            "1\n",
            "2\n",
            "3\n",
            "4\n"
          ]
        }
      ],
      "source": [
        "# + and *\n",
        "t1 = (1,2,3,4)\n",
        "t2 = (5,6,7,8)\n",
        "\n",
        "print(t1 + t2)\n",
        "\n",
        "print(t1*3)\n",
        "# membership\n",
        "print(1 not in t1)\n",
        "# iteration\n",
        "for i in t1:\n",
        "  print(i)"
      ]
    },
    {
      "cell_type": "markdown",
      "metadata": {
        "id": "N52xMYoPmkcZ"
      },
      "source": [
        "### Tuple Functions"
      ]
    },
    {
      "cell_type": "code",
      "execution_count": 16,
      "metadata": {
        "colab": {
          "base_uri": "https://localhost:8080/"
        },
        "id": "Qwevex2Gmmm3",
        "outputId": "738058e1-5b50-46c8-fb80-74b1ac0625d5"
      },
      "outputs": [
        {
          "data": {
            "text/plain": [
              "[4, 3, 2, 1]"
            ]
          },
          "execution_count": 16,
          "metadata": {},
          "output_type": "execute_result"
        }
      ],
      "source": [
        "# len/sum/min/max/sorted\n",
        "t = (1,2,3,4)\n",
        "len(t)\n",
        "\n",
        "sum(t)\n",
        "\n",
        "min(t)\n",
        "\n",
        "max(t)\n",
        "\n",
        "sorted(t,reverse=True)"
      ]
    },
    {
      "cell_type": "code",
      "execution_count": 17,
      "metadata": {
        "colab": {
          "base_uri": "https://localhost:8080/"
        },
        "id": "u7SKgEcqmuQC",
        "outputId": "091a77b0-be5d-4dd6-f945-5a41572e44ee"
      },
      "outputs": [
        {
          "data": {
            "text/plain": [
              "0"
            ]
          },
          "execution_count": 17,
          "metadata": {},
          "output_type": "execute_result"
        }
      ],
      "source": [
        "# count\n",
        "\n",
        "t = (1,2,3,4,5)\n",
        "\n",
        "t.count(50)"
      ]
    },
    {
      "cell_type": "code",
      "execution_count": 19,
      "metadata": {
        "colab": {
          "base_uri": "https://localhost:8080/",
          "height": 187
        },
        "id": "4RfqeoXYnBR8",
        "outputId": "364f9a13-bf4b-4c4a-e68f-59475f4bfcb1"
      },
      "outputs": [
        {
          "data": {
            "text/plain": [
              "1"
            ]
          },
          "execution_count": 19,
          "metadata": {},
          "output_type": "execute_result"
        }
      ],
      "source": [
        "# index\n",
        "t.index(2)"
      ]
    },
    {
      "cell_type": "markdown",
      "metadata": {
        "id": "PobcLOXFnNGe"
      },
      "source": [
        "### Difference between Lists and Tuples\n",
        "\n",
        "- Syntax\n",
        "- Mutability-tuples are mutable\n",
        "- Speed-tuples are faster than list\n",
        "- Memory-takes less memory\n",
        "- Built in functionality\n",
        "- Error prone-in error handling\n",
        "- Usability\n"
      ]
    },
    {
      "cell_type": "code",
      "execution_count": 21,
      "metadata": {
        "colab": {
          "base_uri": "https://localhost:8080/"
        },
        "id": "-_A7Zfp5fVQy",
        "outputId": "84aad301-6f5c-43e5-9460-3f56334286ee"
      },
      "outputs": [
        {
          "name": "stdout",
          "output_type": "stream",
          "text": [
            "List time 7.016804456710815\n",
            "Tuple time 5.398809909820557\n"
          ]
        }
      ],
      "source": [
        "#speed comparison bw list and tuple\n",
        "import time\n",
        "\n",
        "L = list(range(100000000))\n",
        "T = tuple(range(100000000))\n",
        "\n",
        "start = time.time()\n",
        "for i in L:\n",
        "  i*5\n",
        "print('List time',time.time()-start)\n",
        "\n",
        "start = time.time()\n",
        "for i in T:\n",
        "  i*5\n",
        "print('Tuple time',time.time()-start)"
      ]
    },
    {
      "cell_type": "code",
      "execution_count": 23,
      "metadata": {
        "colab": {
          "base_uri": "https://localhost:8080/"
        },
        "id": "WMZ3zpKXgNzo",
        "outputId": "ec25c72e-db73-4118-c314-04e9049e3720"
      },
      "outputs": [
        {
          "name": "stdout",
          "output_type": "stream",
          "text": [
            "List size 8056\n",
            "Tuple size 8040\n"
          ]
        }
      ],
      "source": [
        "#memory comparison\n",
        "import sys\n",
        "\n",
        "L = list(range(1000))\n",
        "T = tuple(range(1000))\n",
        "\n",
        "print('List size',sys.getsizeof(L))\n",
        "print('Tuple size',sys.getsizeof(T))\n"
      ]
    },
    {
      "cell_type": "code",
      "execution_count": 24,
      "metadata": {
        "colab": {
          "base_uri": "https://localhost:8080/"
        },
        "id": "07cZ1sqUzV8B",
        "outputId": "16dbf599-4782-4473-f922-85d972d6edeb"
      },
      "outputs": [
        {
          "name": "stdout",
          "output_type": "stream",
          "text": [
            "[1, 2, 3, 4]\n",
            "[1, 2, 3, 4]\n"
          ]
        }
      ],
      "source": [
        "a = [1,2,3]\n",
        "b = a\n",
        "\n",
        "a.append(4)\n",
        "print(a)\n",
        "print(b)"
      ]
    },
    {
      "cell_type": "code",
      "execution_count": 25,
      "metadata": {
        "colab": {
          "base_uri": "https://localhost:8080/"
        },
        "id": "KNsxrRz9zi-p",
        "outputId": "df2306c5-afca-4e06-d939-5fb281872a38"
      },
      "outputs": [
        {
          "name": "stdout",
          "output_type": "stream",
          "text": [
            "(1, 2, 3, 4)\n",
            "(1, 2, 3)\n"
          ]
        }
      ],
      "source": [
        "a = (1,2,3)\n",
        "b = a\n",
        "\n",
        "a = a + (4,)\n",
        "print(a)\n",
        "print(b)"
      ]
    },
    {
      "cell_type": "markdown",
      "metadata": {
        "id": "faJ8lUIcfN6J"
      },
      "source": [
        "### Why use tuple?"
      ]
    },
    {
      "cell_type": "markdown",
      "metadata": {
        "id": "2tXh2rFfo9Xp"
      },
      "source": [
        "### Special Syntax"
      ]
    },
    {
      "cell_type": "code",
      "execution_count": 26,
      "metadata": {
        "colab": {
          "base_uri": "https://localhost:8080/"
        },
        "id": "MlDNb_KsnB-b",
        "outputId": "49934cdf-cf35-44a4-c1ba-40b0bf6ba031"
      },
      "outputs": [
        {
          "name": "stdout",
          "output_type": "stream",
          "text": [
            "1 2 3\n"
          ]
        }
      ],
      "source": [
        "# tuple unpacking\n",
        "a,b,c = (1,2,3)\n",
        "print(a,b,c)"
      ]
    },
    {
      "cell_type": "code",
      "execution_count": 27,
      "metadata": {
        "colab": {
          "base_uri": "https://localhost:8080/",
          "height": 187
        },
        "id": "bxz2_lX1j4SL",
        "outputId": "0f92225c-f0f0-4c57-c9ed-aa9f13e492e3"
      },
      "outputs": [
        {
          "ename": "ValueError",
          "evalue": "too many values to unpack (expected 2)",
          "output_type": "error",
          "traceback": [
            "\u001b[1;31m---------------------------------------------------------------------------\u001b[0m",
            "\u001b[1;31mValueError\u001b[0m                                Traceback (most recent call last)",
            "Cell \u001b[1;32mIn[27], line 1\u001b[0m\n\u001b[1;32m----> 1\u001b[0m a,b \u001b[38;5;241m=\u001b[39m (\u001b[38;5;241m1\u001b[39m,\u001b[38;5;241m2\u001b[39m,\u001b[38;5;241m3\u001b[39m)\n\u001b[0;32m      2\u001b[0m \u001b[38;5;28mprint\u001b[39m(a,b)\n",
            "\u001b[1;31mValueError\u001b[0m: too many values to unpack (expected 2)"
          ]
        }
      ],
      "source": [
        "a,b = (1,2,3)\n",
        "print(a,b)"
      ]
    },
    {
      "cell_type": "code",
      "execution_count": 29,
      "metadata": {
        "colab": {
          "base_uri": "https://localhost:8080/"
        },
        "id": "Crc3WUQwjp_B",
        "outputId": "33065db1-486b-46bc-b4ce-5efa9df70f93"
      },
      "outputs": [
        {
          "name": "stdout",
          "output_type": "stream",
          "text": [
            "2 1\n"
          ]
        }
      ],
      "source": [
        "#swapping numbers using tuples\n",
        "a = 1\n",
        "b = 2\n",
        "a,b = b,a\n",
        "\n",
        "print(a,b)"
      ]
    },
    {
      "cell_type": "code",
      "execution_count": 30,
      "metadata": {
        "colab": {
          "base_uri": "https://localhost:8080/"
        },
        "id": "8QlfVsrCjvh3",
        "outputId": "0724b939-8ad5-43aa-aede-3b8d5c8531a9"
      },
      "outputs": [
        {
          "name": "stdout",
          "output_type": "stream",
          "text": [
            "1 2\n",
            "[3, 4]\n"
          ]
        }
      ],
      "source": [
        "#adding other values to another variable\n",
        "a,b,*others = (1,2,3,4)\n",
        "print(a,b)\n",
        "print(others)"
      ]
    },
    {
      "cell_type": "code",
      "execution_count": 31,
      "metadata": {
        "colab": {
          "base_uri": "https://localhost:8080/"
        },
        "id": "6RPuluylqgmE",
        "outputId": "9d711f7d-f413-4979-8c05-44c87484aeb9"
      },
      "outputs": [
        {
          "data": {
            "text/plain": [
              "((1, 5), (2, 6), (3, 7), (4, 8))"
            ]
          },
          "execution_count": 31,
          "metadata": {},
          "output_type": "execute_result"
        }
      ],
      "source": [
        "# zipping tuples\n",
        "a = (1,2,3,4)\n",
        "b = (5,6,7,8)\n",
        "\n",
        "tuple(zip(a,b))"
      ]
    }
  ],
  "metadata": {
    "colab": {
      "provenance": []
    },
    "kernelspec": {
      "display_name": "Python 3",
      "name": "python3"
    },
    "language_info": {
      "codemirror_mode": {
        "name": "ipython",
        "version": 3
      },
      "file_extension": ".py",
      "mimetype": "text/x-python",
      "name": "python",
      "nbconvert_exporter": "python",
      "pygments_lexer": "ipython3",
      "version": "3.11.0"
    }
  },
  "nbformat": 4,
  "nbformat_minor": 0
}
